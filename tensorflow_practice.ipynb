{
  "nbformat": 4,
  "nbformat_minor": 0,
  "metadata": {
    "colab": {
      "name": "tensorflow-practice.ipynb",
      "provenance": [],
      "collapsed_sections": [],
      "authorship_tag": "ABX9TyNubT6GZ7eM+MYjkMMvxVVM",
      "include_colab_link": true
    },
    "kernelspec": {
      "name": "python3",
      "display_name": "Python 3"
    }
  },
  "cells": [
    {
      "cell_type": "markdown",
      "metadata": {
        "id": "view-in-github",
        "colab_type": "text"
      },
      "source": [
        "<a href=\"https://colab.research.google.com/github/ranitha84/tensorflow-practice/blob/main/tensorflow_practice.ipynb\" target=\"_parent\"><img src=\"https://colab.research.google.com/assets/colab-badge.svg\" alt=\"Open In Colab\"/></a>"
      ]
    },
    {
      "cell_type": "code",
      "metadata": {
        "id": "gGlEKiS2pg2T"
      },
      "source": [
        "import tensorflow as tf\r\n",
        "from tensorflow import keras"
      ],
      "execution_count": null,
      "outputs": []
    },
    {
      "cell_type": "code",
      "metadata": {
        "id": "Z3JG9UlYqbu2"
      },
      "source": [
        "fashion_mnist = keras.datasets.fashion_mnist"
      ],
      "execution_count": null,
      "outputs": []
    },
    {
      "cell_type": "code",
      "metadata": {
        "colab": {
          "base_uri": "https://localhost:8080/",
          "height": 35
        },
        "id": "Ux3grBkCrSX2",
        "outputId": "ac61c5ae-1931-4bc2-b3ec-ef7cfdafa7db"
      },
      "source": [
        "tf.__version__"
      ],
      "execution_count": null,
      "outputs": [
        {
          "output_type": "execute_result",
          "data": {
            "application/vnd.google.colaboratory.intrinsic+json": {
              "type": "string"
            },
            "text/plain": [
              "'2.4.0'"
            ]
          },
          "metadata": {
            "tags": []
          },
          "execution_count": 3
        }
      ]
    },
    {
      "cell_type": "code",
      "metadata": {
        "colab": {
          "base_uri": "https://localhost:8080/",
          "height": 35
        },
        "id": "cKUMGS_4rec_",
        "outputId": "d3ac5aa2-dfcb-4d77-c729-4f49628ee7af"
      },
      "source": [
        "keras.__version__"
      ],
      "execution_count": null,
      "outputs": [
        {
          "output_type": "execute_result",
          "data": {
            "application/vnd.google.colaboratory.intrinsic+json": {
              "type": "string"
            },
            "text/plain": [
              "'2.4.0'"
            ]
          },
          "metadata": {
            "tags": []
          },
          "execution_count": 4
        }
      ]
    },
    {
      "cell_type": "code",
      "metadata": {
        "colab": {
          "base_uri": "https://localhost:8080/"
        },
        "id": "cxwl4_vYqd17",
        "outputId": "733e17e9-96a8-4e08-cf76-94bea7413aad"
      },
      "source": [
        "(X_train_full, y_train_full),(X_test, y_test)= fashion_mnist.load_data()"
      ],
      "execution_count": null,
      "outputs": [
        {
          "output_type": "stream",
          "text": [
            "Downloading data from https://storage.googleapis.com/tensorflow/tf-keras-datasets/train-labels-idx1-ubyte.gz\n",
            "32768/29515 [=================================] - 0s 0us/step\n",
            "Downloading data from https://storage.googleapis.com/tensorflow/tf-keras-datasets/train-images-idx3-ubyte.gz\n",
            "26427392/26421880 [==============================] - 1s 0us/step\n",
            "Downloading data from https://storage.googleapis.com/tensorflow/tf-keras-datasets/t10k-labels-idx1-ubyte.gz\n",
            "8192/5148 [===============================================] - 0s 0us/step\n",
            "Downloading data from https://storage.googleapis.com/tensorflow/tf-keras-datasets/t10k-images-idx3-ubyte.gz\n",
            "4423680/4422102 [==============================] - 0s 0us/step\n"
          ],
          "name": "stdout"
        }
      ]
    },
    {
      "cell_type": "code",
      "metadata": {
        "colab": {
          "base_uri": "https://localhost:8080/"
        },
        "id": "RCHhc3P9qfdd",
        "outputId": "f4bd0470-815a-4a51-db4e-778dc2716243"
      },
      "source": [
        "X_train_full.shape"
      ],
      "execution_count": null,
      "outputs": [
        {
          "output_type": "execute_result",
          "data": {
            "text/plain": [
              "(60000, 28, 28)"
            ]
          },
          "metadata": {
            "tags": []
          },
          "execution_count": 6
        }
      ]
    },
    {
      "cell_type": "code",
      "metadata": {
        "id": "twqg0t9YqhBG"
      },
      "source": [
        "X_valid, X_train = X_train_full[:5000]/255.0 , X_train_full[5000:]/255.0"
      ],
      "execution_count": null,
      "outputs": []
    },
    {
      "cell_type": "code",
      "metadata": {
        "id": "PRMSdoRmqjb1"
      },
      "source": [
        "y_valid, y_train = y_train_full[:5000], y_train_full[5000:]"
      ],
      "execution_count": null,
      "outputs": []
    },
    {
      "cell_type": "code",
      "metadata": {
        "colab": {
          "base_uri": "https://localhost:8080/"
        },
        "id": "C-gOEh3nqk1l",
        "outputId": "51dc8f09-db9e-4864-a68e-b315a0eaf591"
      },
      "source": [
        "set(y_train_full)\r\n"
      ],
      "execution_count": null,
      "outputs": [
        {
          "output_type": "execute_result",
          "data": {
            "text/plain": [
              "{0, 1, 2, 3, 4, 5, 6, 7, 8, 9}"
            ]
          },
          "metadata": {
            "tags": []
          },
          "execution_count": 9
        }
      ]
    },
    {
      "cell_type": "code",
      "metadata": {
        "id": "Ns7mm8_vqmMe"
      },
      "source": [
        "class_names= ['T-shirt/top','Trouser','Pullover','Dress','Coat','Sandal','Shirt','Sneaker','Bag','Ankle Boot']"
      ],
      "execution_count": null,
      "outputs": []
    },
    {
      "cell_type": "code",
      "metadata": {
        "id": "SEY3C9t7qnSt"
      },
      "source": [
        "model = keras.models.Sequential()"
      ],
      "execution_count": null,
      "outputs": []
    },
    {
      "cell_type": "code",
      "metadata": {
        "id": "jTRWpc3gqo60"
      },
      "source": [
        "model.add(keras.layers.Flatten(input_shape=[28,28]))\r\n",
        "\r\n",
        "model.add(keras.layers.Dense(300, activation='relu'))\r\n",
        "model.add(keras.layers.Dense(100, activation='relu'))\r\n",
        "model.add(keras.layers.Dense(10, activation='softmax'))\r\n"
      ],
      "execution_count": null,
      "outputs": []
    },
    {
      "cell_type": "code",
      "metadata": {
        "colab": {
          "base_uri": "https://localhost:8080/"
        },
        "id": "JgORgjfMqsL1",
        "outputId": "3205ad8d-22a0-4c0e-ba1f-ed1aa0ea1599"
      },
      "source": [
        "model.summary()"
      ],
      "execution_count": null,
      "outputs": [
        {
          "output_type": "stream",
          "text": [
            "Model: \"sequential\"\n",
            "_________________________________________________________________\n",
            "Layer (type)                 Output Shape              Param #   \n",
            "=================================================================\n",
            "flatten (Flatten)            (None, 784)               0         \n",
            "_________________________________________________________________\n",
            "dense (Dense)                (None, 300)               235500    \n",
            "_________________________________________________________________\n",
            "dense_1 (Dense)              (None, 100)               30100     \n",
            "_________________________________________________________________\n",
            "dense_2 (Dense)              (None, 10)                1010      \n",
            "=================================================================\n",
            "Total params: 266,610\n",
            "Trainable params: 266,610\n",
            "Non-trainable params: 0\n",
            "_________________________________________________________________\n"
          ],
          "name": "stdout"
        }
      ]
    },
    {
      "cell_type": "code",
      "metadata": {
        "colab": {
          "base_uri": "https://localhost:8080/"
        },
        "id": "OpXcwSEPqt35",
        "outputId": "97ea56e3-c754-4c42-fd40-7b9eb0c089e3"
      },
      "source": [
        "model.layers"
      ],
      "execution_count": null,
      "outputs": [
        {
          "output_type": "execute_result",
          "data": {
            "text/plain": [
              "[<tensorflow.python.keras.layers.core.Flatten at 0x7f213e30a5c0>,\n",
              " <tensorflow.python.keras.layers.core.Dense at 0x7f213e30acc0>,\n",
              " <tensorflow.python.keras.layers.core.Dense at 0x7f213e30b5f8>,\n",
              " <tensorflow.python.keras.layers.core.Dense at 0x7f213e30b5c0>]"
            ]
          },
          "metadata": {
            "tags": []
          },
          "execution_count": 14
        }
      ]
    },
    {
      "cell_type": "code",
      "metadata": {
        "id": "LGdOmS15qwXV"
      },
      "source": [
        "weights,biases = model.layers[1].weights"
      ],
      "execution_count": null,
      "outputs": []
    },
    {
      "cell_type": "code",
      "metadata": {
        "id": "FlSj6gujqxmy"
      },
      "source": [
        "model.compile(loss=keras.losses.sparse_categorical_crossentropy,\r\n",
        "             optimizer=keras.optimizers.SGD(lr=0.01),\r\n",
        "             metrics=keras.metrics.sparse_categorical_accuracy)\r\n"
      ],
      "execution_count": null,
      "outputs": []
    },
    {
      "cell_type": "code",
      "metadata": {
        "colab": {
          "base_uri": "https://localhost:8080/"
        },
        "id": "iOIdPaiLq4wB",
        "outputId": "32b19889-3eaa-4890-884e-34680307b371"
      },
      "source": [
        "history = model.fit(X_train,y_train,epochs=30, validation_data=(X_valid,y_valid))"
      ],
      "execution_count": null,
      "outputs": [
        {
          "output_type": "stream",
          "text": [
            "Epoch 1/30\n",
            "1719/1719 [==============================] - 6s 3ms/step - loss: 0.9951 - sparse_categorical_accuracy: 0.6826 - val_loss: 0.4979 - val_sparse_categorical_accuracy: 0.8422\n",
            "Epoch 2/30\n",
            "1719/1719 [==============================] - 5s 3ms/step - loss: 0.5043 - sparse_categorical_accuracy: 0.8251 - val_loss: 0.4449 - val_sparse_categorical_accuracy: 0.8534\n",
            "Epoch 3/30\n",
            "1719/1719 [==============================] - 5s 3ms/step - loss: 0.4518 - sparse_categorical_accuracy: 0.8417 - val_loss: 0.4085 - val_sparse_categorical_accuracy: 0.8602\n",
            "Epoch 4/30\n",
            "1719/1719 [==============================] - 5s 3ms/step - loss: 0.4222 - sparse_categorical_accuracy: 0.8536 - val_loss: 0.3966 - val_sparse_categorical_accuracy: 0.8656\n",
            "Epoch 5/30\n",
            "1719/1719 [==============================] - 5s 3ms/step - loss: 0.4026 - sparse_categorical_accuracy: 0.8602 - val_loss: 0.3905 - val_sparse_categorical_accuracy: 0.8614\n",
            "Epoch 6/30\n",
            "1719/1719 [==============================] - 5s 3ms/step - loss: 0.3798 - sparse_categorical_accuracy: 0.8669 - val_loss: 0.3695 - val_sparse_categorical_accuracy: 0.8710\n",
            "Epoch 7/30\n",
            "1719/1719 [==============================] - 5s 3ms/step - loss: 0.3694 - sparse_categorical_accuracy: 0.8719 - val_loss: 0.3644 - val_sparse_categorical_accuracy: 0.8730\n",
            "Epoch 8/30\n",
            "1719/1719 [==============================] - 5s 3ms/step - loss: 0.3571 - sparse_categorical_accuracy: 0.8730 - val_loss: 0.3625 - val_sparse_categorical_accuracy: 0.8724\n",
            "Epoch 9/30\n",
            "1719/1719 [==============================] - 5s 3ms/step - loss: 0.3419 - sparse_categorical_accuracy: 0.8789 - val_loss: 0.3560 - val_sparse_categorical_accuracy: 0.8750\n",
            "Epoch 10/30\n",
            "1719/1719 [==============================] - 5s 3ms/step - loss: 0.3369 - sparse_categorical_accuracy: 0.8812 - val_loss: 0.3597 - val_sparse_categorical_accuracy: 0.8732\n",
            "Epoch 11/30\n",
            "1719/1719 [==============================] - 5s 3ms/step - loss: 0.3261 - sparse_categorical_accuracy: 0.8850 - val_loss: 0.3355 - val_sparse_categorical_accuracy: 0.8806\n",
            "Epoch 12/30\n",
            "1719/1719 [==============================] - 5s 3ms/step - loss: 0.3113 - sparse_categorical_accuracy: 0.8887 - val_loss: 0.3536 - val_sparse_categorical_accuracy: 0.8714\n",
            "Epoch 13/30\n",
            "1719/1719 [==============================] - 5s 3ms/step - loss: 0.3086 - sparse_categorical_accuracy: 0.8895 - val_loss: 0.3431 - val_sparse_categorical_accuracy: 0.8758\n",
            "Epoch 14/30\n",
            "1719/1719 [==============================] - 5s 3ms/step - loss: 0.3018 - sparse_categorical_accuracy: 0.8941 - val_loss: 0.3223 - val_sparse_categorical_accuracy: 0.8864\n",
            "Epoch 15/30\n",
            "1719/1719 [==============================] - 5s 3ms/step - loss: 0.2987 - sparse_categorical_accuracy: 0.8942 - val_loss: 0.3196 - val_sparse_categorical_accuracy: 0.8844\n",
            "Epoch 16/30\n",
            "1719/1719 [==============================] - 5s 3ms/step - loss: 0.2900 - sparse_categorical_accuracy: 0.8963 - val_loss: 0.3416 - val_sparse_categorical_accuracy: 0.8780\n",
            "Epoch 17/30\n",
            "1719/1719 [==============================] - 5s 3ms/step - loss: 0.2848 - sparse_categorical_accuracy: 0.8988 - val_loss: 0.3657 - val_sparse_categorical_accuracy: 0.8678\n",
            "Epoch 18/30\n",
            "1719/1719 [==============================] - 5s 3ms/step - loss: 0.2757 - sparse_categorical_accuracy: 0.9019 - val_loss: 0.3227 - val_sparse_categorical_accuracy: 0.8838\n",
            "Epoch 19/30\n",
            "1719/1719 [==============================] - 5s 3ms/step - loss: 0.2730 - sparse_categorical_accuracy: 0.9004 - val_loss: 0.3115 - val_sparse_categorical_accuracy: 0.8884\n",
            "Epoch 20/30\n",
            "1719/1719 [==============================] - 5s 3ms/step - loss: 0.2670 - sparse_categorical_accuracy: 0.9040 - val_loss: 0.3017 - val_sparse_categorical_accuracy: 0.8920\n",
            "Epoch 21/30\n",
            "1719/1719 [==============================] - 5s 3ms/step - loss: 0.2627 - sparse_categorical_accuracy: 0.9058 - val_loss: 0.3064 - val_sparse_categorical_accuracy: 0.8854\n",
            "Epoch 22/30\n",
            "1719/1719 [==============================] - 5s 3ms/step - loss: 0.2552 - sparse_categorical_accuracy: 0.9077 - val_loss: 0.3038 - val_sparse_categorical_accuracy: 0.8908\n",
            "Epoch 23/30\n",
            "1719/1719 [==============================] - 5s 3ms/step - loss: 0.2595 - sparse_categorical_accuracy: 0.9055 - val_loss: 0.3232 - val_sparse_categorical_accuracy: 0.8810\n",
            "Epoch 24/30\n",
            "1719/1719 [==============================] - 5s 3ms/step - loss: 0.2491 - sparse_categorical_accuracy: 0.9090 - val_loss: 0.2995 - val_sparse_categorical_accuracy: 0.8892\n",
            "Epoch 25/30\n",
            "1719/1719 [==============================] - 5s 3ms/step - loss: 0.2440 - sparse_categorical_accuracy: 0.9132 - val_loss: 0.2952 - val_sparse_categorical_accuracy: 0.8902\n",
            "Epoch 26/30\n",
            "1719/1719 [==============================] - 5s 3ms/step - loss: 0.2352 - sparse_categorical_accuracy: 0.9145 - val_loss: 0.3037 - val_sparse_categorical_accuracy: 0.8872\n",
            "Epoch 27/30\n",
            "1719/1719 [==============================] - 5s 3ms/step - loss: 0.2374 - sparse_categorical_accuracy: 0.9141 - val_loss: 0.3065 - val_sparse_categorical_accuracy: 0.8872\n",
            "Epoch 28/30\n",
            "1719/1719 [==============================] - 5s 3ms/step - loss: 0.2341 - sparse_categorical_accuracy: 0.9155 - val_loss: 0.3092 - val_sparse_categorical_accuracy: 0.8866\n",
            "Epoch 29/30\n",
            "1719/1719 [==============================] - 5s 3ms/step - loss: 0.2310 - sparse_categorical_accuracy: 0.9173 - val_loss: 0.2935 - val_sparse_categorical_accuracy: 0.8932\n",
            "Epoch 30/30\n",
            "1719/1719 [==============================] - 5s 3ms/step - loss: 0.2261 - sparse_categorical_accuracy: 0.9181 - val_loss: 0.2967 - val_sparse_categorical_accuracy: 0.8910\n"
          ],
          "name": "stdout"
        }
      ]
    },
    {
      "cell_type": "code",
      "metadata": {
        "colab": {
          "base_uri": "https://localhost:8080/"
        },
        "id": "sCeyTkqAq5tP",
        "outputId": "ac640115-c678-409e-e582-4d31da456ca8"
      },
      "source": [
        "history.history"
      ],
      "execution_count": null,
      "outputs": [
        {
          "output_type": "execute_result",
          "data": {
            "text/plain": [
              "{'loss': [0.7192497849464417,\n",
              "  0.4901753067970276,\n",
              "  0.4457535743713379,\n",
              "  0.41693761944770813,\n",
              "  0.3970656394958496,\n",
              "  0.38033923506736755,\n",
              "  0.36691412329673767,\n",
              "  0.35481366515159607,\n",
              "  0.34493300318717957,\n",
              "  0.33533093333244324,\n",
              "  0.32566115260124207,\n",
              "  0.31795734167099,\n",
              "  0.31086164712905884,\n",
              "  0.30327895283699036,\n",
              "  0.2972637116909027,\n",
              "  0.28970491886138916,\n",
              "  0.2845272719860077,\n",
              "  0.279244601726532,\n",
              "  0.2736610472202301,\n",
              "  0.2684832513332367,\n",
              "  0.2646109461784363,\n",
              "  0.25847625732421875,\n",
              "  0.25470659136772156,\n",
              "  0.25016289949417114,\n",
              "  0.24522186815738678,\n",
              "  0.24084194004535675,\n",
              "  0.2374342530965805,\n",
              "  0.23267214000225067,\n",
              "  0.22986239194869995,\n",
              "  0.22518664598464966],\n",
              " 'sparse_categorical_accuracy': [0.7628363370895386,\n",
              "  0.8290727138519287,\n",
              "  0.8442727327346802,\n",
              "  0.8546909093856812,\n",
              "  0.8618909120559692,\n",
              "  0.8667454719543457,\n",
              "  0.8710908889770508,\n",
              "  0.8738727569580078,\n",
              "  0.8783090710639954,\n",
              "  0.8813818097114563,\n",
              "  0.8853272795677185,\n",
              "  0.8857636451721191,\n",
              "  0.8885272741317749,\n",
              "  0.8925091028213501,\n",
              "  0.8935999870300293,\n",
              "  0.8959636092185974,\n",
              "  0.8983272910118103,\n",
              "  0.899327278137207,\n",
              "  0.9003090858459473,\n",
              "  0.9035999774932861,\n",
              "  0.9048363566398621,\n",
              "  0.9063818454742432,\n",
              "  0.908018171787262,\n",
              "  0.9095273017883301,\n",
              "  0.9119454622268677,\n",
              "  0.9136000275611877,\n",
              "  0.9140181541442871,\n",
              "  0.9155818223953247,\n",
              "  0.9175999760627747,\n",
              "  0.9190727472305298],\n",
              " 'val_loss': [0.4978874623775482,\n",
              "  0.44490551948547363,\n",
              "  0.40847447514533997,\n",
              "  0.3965785503387451,\n",
              "  0.39049744606018066,\n",
              "  0.3695058524608612,\n",
              "  0.36435359716415405,\n",
              "  0.3625320792198181,\n",
              "  0.3559549152851105,\n",
              "  0.3597233295440674,\n",
              "  0.33547908067703247,\n",
              "  0.3535849452018738,\n",
              "  0.34314364194869995,\n",
              "  0.32230091094970703,\n",
              "  0.31956207752227783,\n",
              "  0.34157684445381165,\n",
              "  0.3657352924346924,\n",
              "  0.3227354884147644,\n",
              "  0.31145814061164856,\n",
              "  0.30165767669677734,\n",
              "  0.30637291073799133,\n",
              "  0.3038330674171448,\n",
              "  0.32322144508361816,\n",
              "  0.29950347542762756,\n",
              "  0.2952095568180084,\n",
              "  0.3037487864494324,\n",
              "  0.3065231740474701,\n",
              "  0.30920323729515076,\n",
              "  0.2935333549976349,\n",
              "  0.2966976761817932],\n",
              " 'val_sparse_categorical_accuracy': [0.842199981212616,\n",
              "  0.8533999919891357,\n",
              "  0.8601999878883362,\n",
              "  0.8655999898910522,\n",
              "  0.8614000082015991,\n",
              "  0.8709999918937683,\n",
              "  0.8730000257492065,\n",
              "  0.8723999857902527,\n",
              "  0.875,\n",
              "  0.873199999332428,\n",
              "  0.8805999755859375,\n",
              "  0.871399998664856,\n",
              "  0.8758000135421753,\n",
              "  0.8863999843597412,\n",
              "  0.8844000101089478,\n",
              "  0.878000020980835,\n",
              "  0.8677999973297119,\n",
              "  0.8838000297546387,\n",
              "  0.8884000182151794,\n",
              "  0.8920000195503235,\n",
              "  0.8853999972343445,\n",
              "  0.8907999992370605,\n",
              "  0.8809999823570251,\n",
              "  0.88919997215271,\n",
              "  0.8902000188827515,\n",
              "  0.8871999979019165,\n",
              "  0.8871999979019165,\n",
              "  0.8866000175476074,\n",
              "  0.8931999802589417,\n",
              "  0.890999972820282]}"
            ]
          },
          "metadata": {
            "tags": []
          },
          "execution_count": 18
        }
      ]
    },
    {
      "cell_type": "code",
      "metadata": {
        "id": "p189l-Dosal1"
      },
      "source": [
        "import pandas as pd\r\n",
        "import matplotlib.pyplot as plt"
      ],
      "execution_count": null,
      "outputs": []
    },
    {
      "cell_type": "code",
      "metadata": {
        "colab": {
          "base_uri": "https://localhost:8080/"
        },
        "id": "4-DC8yIotXR-",
        "outputId": "84ee966d-b46f-4fd5-b2d5-3966bac6d5c7"
      },
      "source": [
        "history.params"
      ],
      "execution_count": null,
      "outputs": [
        {
          "output_type": "execute_result",
          "data": {
            "text/plain": [
              "{'epochs': 30, 'steps': 1719, 'verbose': 1}"
            ]
          },
          "metadata": {
            "tags": []
          },
          "execution_count": 20
        }
      ]
    },
    {
      "cell_type": "code",
      "metadata": {
        "colab": {
          "base_uri": "https://localhost:8080/",
          "height": 487
        },
        "id": "ud5wFUCKsn5k",
        "outputId": "b65a80a5-56f8-4435-a366-9ede60eef22c"
      },
      "source": [
        "pd.DataFrame(history.history).plot(figsize=(8,8))\r\n",
        "\r\n",
        "plt.grid(True)\r\n",
        "plt.gca().set_ylim(0,1)\r\n",
        "plt.show()"
      ],
      "execution_count": null,
      "outputs": [
        {
          "output_type": "display_data",
          "data": {
            "image/png": "[encoded data removed]",
            "text/plain": [
              "<Figure size 576x576 with 1 Axes>"
            ]
          },
          "metadata": {
            "tags": [],
            "needs_background": "light"
          }
        }
      ]
    },
    {
      "cell_type": "code",
      "metadata": {
        "colab": {
          "base_uri": "https://localhost:8080/"
        },
        "id": "U2cjU1OBtFkM",
        "outputId": "3dddeb05-6724-4587-c9e7-2850b1344ec3"
      },
      "source": [
        "model.evaluate(X_test,y_test)"
      ],
      "execution_count": null,
      "outputs": [
        {
          "output_type": "stream",
          "text": [
            "313/313 [==============================] - 1s 2ms/step - loss: 64.3683 - sparse_categorical_accuracy: 0.8507\n"
          ],
          "name": "stdout"
        },
        {
          "output_type": "execute_result",
          "data": {
            "text/plain": [
              "[64.36831665039062, 0.8507000207901001]"
            ]
          },
          "metadata": {
            "tags": []
          },
          "execution_count": 22
        }
      ]
    },
    {
      "cell_type": "code",
      "metadata": {
        "id": "337orhYSvH88"
      },
      "source": [
        "X_new = X_test[:3]"
      ],
      "execution_count": null,
      "outputs": []
    },
    {
      "cell_type": "code",
      "metadata": {
        "colab": {
          "base_uri": "https://localhost:8080/"
        },
        "id": "ICnEZedowLl8",
        "outputId": "649c0b01-0195-432d-8549-1377c91a149d"
      },
      "source": [
        "X_new"
      ],
      "execution_count": null,
      "outputs": [
        {
          "output_type": "execute_result",
          "data": {
            "text/plain": [
              "array([[[0, 0, 0, ..., 0, 0, 0],\n",
              "        [0, 0, 0, ..., 0, 0, 0],\n",
              "        [0, 0, 0, ..., 0, 0, 0],\n",
              "        ...,\n",
              "        [0, 0, 0, ..., 0, 0, 0],\n",
              "        [0, 0, 0, ..., 0, 0, 0],\n",
              "        [0, 0, 0, ..., 0, 0, 0]],\n",
              "\n",
              "       [[0, 0, 0, ..., 0, 0, 0],\n",
              "        [0, 0, 0, ..., 0, 0, 0],\n",
              "        [0, 0, 0, ..., 0, 0, 0],\n",
              "        ...,\n",
              "        [0, 0, 0, ..., 0, 0, 0],\n",
              "        [0, 0, 0, ..., 0, 0, 0],\n",
              "        [0, 0, 0, ..., 0, 0, 0]],\n",
              "\n",
              "       [[0, 0, 0, ..., 0, 0, 0],\n",
              "        [0, 0, 0, ..., 0, 0, 0],\n",
              "        [0, 0, 0, ..., 0, 0, 0],\n",
              "        ...,\n",
              "        [0, 0, 0, ..., 0, 0, 0],\n",
              "        [0, 0, 0, ..., 0, 0, 0],\n",
              "        [0, 0, 0, ..., 0, 0, 0]]], dtype=uint8)"
            ]
          },
          "metadata": {
            "tags": []
          },
          "execution_count": 24
        }
      ]
    },
    {
      "cell_type": "code",
      "metadata": {
        "id": "Y8PAWzxjvZFD"
      },
      "source": [
        "y_proba = model.predict(X_new)"
      ],
      "execution_count": null,
      "outputs": []
    },
    {
      "cell_type": "code",
      "metadata": {
        "colab": {
          "base_uri": "https://localhost:8080/"
        },
        "id": "vuZz6fdXvew8",
        "outputId": "b8eb8a17-8425-44f3-cf75-9f1df6f83af4"
      },
      "source": [
        "y_proba.round(2)"
      ],
      "execution_count": null,
      "outputs": [
        {
          "output_type": "execute_result",
          "data": {
            "text/plain": [
              "array([[0., 0., 0., 0., 0., 0., 0., 0., 0., 1.],\n",
              "       [0., 0., 1., 0., 0., 0., 0., 0., 0., 0.],\n",
              "       [0., 1., 0., 0., 0., 0., 0., 0., 0., 0.]], dtype=float32)"
            ]
          },
          "metadata": {
            "tags": []
          },
          "execution_count": 26
        }
      ]
    },
    {
      "cell_type": "code",
      "metadata": {
        "id": "alZYHN4zvfnc"
      },
      "source": [
        "import numpy as np"
      ],
      "execution_count": null,
      "outputs": []
    },
    {
      "cell_type": "code",
      "metadata": {
        "id": "jCcct6D_wb_N"
      },
      "source": [
        "y_pred= np.argmax(model.predict(X_new), axis=-1)"
      ],
      "execution_count": null,
      "outputs": []
    },
    {
      "cell_type": "code",
      "metadata": {
        "colab": {
          "base_uri": "https://localhost:8080/"
        },
        "id": "Ngm0woFqwk4X",
        "outputId": "aefd25b3-9785-4a62-b276-204f80d9bcb3"
      },
      "source": [
        "y_pred"
      ],
      "execution_count": null,
      "outputs": [
        {
          "output_type": "execute_result",
          "data": {
            "text/plain": [
              "array([9, 2, 1])"
            ]
          },
          "metadata": {
            "tags": []
          },
          "execution_count": 29
        }
      ]
    },
    {
      "cell_type": "code",
      "metadata": {
        "colab": {
          "base_uri": "https://localhost:8080/"
        },
        "id": "NVRyn3Qow_lM",
        "outputId": "171fb88c-02ec-4fd8-eed6-4c6a0d52ec6c"
      },
      "source": [
        "np.array(class_names)[y_pred]"
      ],
      "execution_count": null,
      "outputs": [
        {
          "output_type": "execute_result",
          "data": {
            "text/plain": [
              "array(['Ankle Boot', 'Pullover', 'Trouser'], dtype='<U11')"
            ]
          },
          "metadata": {
            "tags": []
          },
          "execution_count": 30
        }
      ]
    },
    {
      "cell_type": "code",
      "metadata": {
        "id": "KdQ2RdwvxSTM"
      },
      "source": [
        "y_new = y_test[:3]"
      ],
      "execution_count": null,
      "outputs": []
    },
    {
      "cell_type": "code",
      "metadata": {
        "colab": {
          "base_uri": "https://localhost:8080/"
        },
        "id": "8Jb14OJBxVwM",
        "outputId": "6a59594f-7ed6-4fad-d126-3754e959d09c"
      },
      "source": [
        "y_new"
      ],
      "execution_count": null,
      "outputs": [
        {
          "output_type": "execute_result",
          "data": {
            "text/plain": [
              "array([9, 2, 1], dtype=uint8)"
            ]
          },
          "metadata": {
            "tags": []
          },
          "execution_count": 32
        }
      ]
    },
    {
      "cell_type": "code",
      "metadata": {
        "id": "w965mRxIxXob"
      },
      "source": [
        "from sklearn.datasets import fetch_california_housing\r\n",
        "\r\n",
        "from sklearn.model_selection import train_test_split\r\n",
        "from sklearn.preprocessing import StandardScaler"
      ],
      "execution_count": null,
      "outputs": []
    },
    {
      "cell_type": "code",
      "metadata": {
        "colab": {
          "base_uri": "https://localhost:8080/"
        },
        "id": "qOOr1uNEyPa8",
        "outputId": "6b003812-32ab-45d8-a43b-e488ef3276e4"
      },
      "source": [
        "housing = fetch_california_housing()"
      ],
      "execution_count": null,
      "outputs": [
        {
          "output_type": "stream",
          "text": [
            "Downloading Cal. housing from https://ndownloader.figshare.com/files/5976036 to /root/scikit_learn_data\n"
          ],
          "name": "stderr"
        }
      ]
    },
    {
      "cell_type": "code",
      "metadata": {
        "colab": {
          "base_uri": "https://localhost:8080/"
        },
        "id": "7sqzYxn4yrOl",
        "outputId": "b9941d82-08ca-47e1-964b-52e055f27540"
      },
      "source": [
        "housing"
      ],
      "execution_count": null,
      "outputs": [
        {
          "output_type": "execute_result",
          "data": {
            "text/plain": [
              "{'DESCR': '.. _california_housing_dataset:\\n\\nCalifornia Housing dataset\\n--------------------------\\n\\n**Data Set Characteristics:**\\n\\n    :Number of Instances: 20640\\n\\n    :Number of Attributes: 8 numeric, predictive attributes and the target\\n\\n    :Attribute Information:\\n        - MedInc        median income in block\\n        - HouseAge      median house age in block\\n        - AveRooms      average number of rooms\\n        - AveBedrms     average number of bedrooms\\n        - Population    block population\\n        - AveOccup      average house occupancy\\n        - Latitude      house block latitude\\n        - Longitude     house block longitude\\n\\n    :Missing Attribute Values: None\\n\\nThis dataset was obtained from the StatLib repository.\\nhttp://lib.stat.cmu.edu/datasets/\\n\\nThe target variable is the median house value for California districts.\\n\\nThis dataset was derived from the 1990 U.S. census, using one row per census\\nblock group. A block group is the smallest geographical unit for which the U.S.\\nCensus Bureau publishes sample data (a block group typically has a population\\nof 600 to 3,000 people).\\n\\nIt can be downloaded/loaded using the\\n:func:`sklearn.datasets.fetch_california_housing` function.\\n\\n.. topic:: References\\n\\n    - Pace, R. Kelley and Ronald Barry, Sparse Spatial Autoregressions,\\n      Statistics and Probability Letters, 33 (1997) 291-297\\n',\n",
              " 'data': array([[   8.3252    ,   41.        ,    6.98412698, ...,    2.55555556,\n",
              "           37.88      , -122.23      ],\n",
              "        [   8.3014    ,   21.        ,    6.23813708, ...,    2.10984183,\n",
              "           37.86      , -122.22      ],\n",
              "        [   7.2574    ,   52.        ,    8.28813559, ...,    2.80225989,\n",
              "           37.85      , -122.24      ],\n",
              "        ...,\n",
              "        [   1.7       ,   17.        ,    5.20554273, ...,    2.3256351 ,\n",
              "           39.43      , -121.22      ],\n",
              "        [   1.8672    ,   18.        ,    5.32951289, ...,    2.12320917,\n",
              "           39.43      , -121.32      ],\n",
              "        [   2.3886    ,   16.        ,    5.25471698, ...,    2.61698113,\n",
              "           39.37      , -121.24      ]]),\n",
              " 'feature_names': ['MedInc',\n",
              "  'HouseAge',\n",
              "  'AveRooms',\n",
              "  'AveBedrms',\n",
              "  'Population',\n",
              "  'AveOccup',\n",
              "  'Latitude',\n",
              "  'Longitude'],\n",
              " 'target': array([4.526, 3.585, 3.521, ..., 0.923, 0.847, 0.894])}"
            ]
          },
          "metadata": {
            "tags": []
          },
          "execution_count": 35
        }
      ]
    },
    {
      "cell_type": "code",
      "metadata": {
        "id": "wrahysPTydYk"
      },
      "source": [
        "X_train_full, X_test, y_train_full, y_test = train_test_split(housing.data, housing.target)"
      ],
      "execution_count": null,
      "outputs": []
    },
    {
      "cell_type": "markdown",
      "metadata": {
        "id": "Qdgsc66ezFr3"
      },
      "source": [
        "### Split train data again into train and validation dataset"
      ]
    },
    {
      "cell_type": "code",
      "metadata": {
        "id": "XO-lJo_Ay0SL"
      },
      "source": [
        "X_train,X_valid, y_train, y_valid = train_test_split(X_train_full,y_train_full)"
      ],
      "execution_count": null,
      "outputs": []
    },
    {
      "cell_type": "code",
      "metadata": {
        "id": "W04XVuAuzM-c"
      },
      "source": [
        "scaler = StandardScaler()"
      ],
      "execution_count": null,
      "outputs": []
    },
    {
      "cell_type": "code",
      "metadata": {
        "id": "xOIIVJPJzTAj"
      },
      "source": [
        "X_train = scaler.fit_transform(X_train)\r\n",
        "X_valid = scaler.transform(X_valid)\r\n",
        "X_test= scaler.transform(X_test)"
      ],
      "execution_count": null,
      "outputs": []
    },
    {
      "cell_type": "code",
      "metadata": {
        "id": "J1g6pC8QzesL"
      },
      "source": [
        "model = keras.models.Sequential([\r\n",
        "                                 keras.layers.Dense(30, activation='relu', input_shape= X_train.shape[1:]),\r\n",
        "                                 keras.layers.Dense(1)\r\n",
        "])"
      ],
      "execution_count": null,
      "outputs": []
    },
    {
      "cell_type": "code",
      "metadata": {
        "id": "5F4YhgrL0kPc"
      },
      "source": [
        "model.compile(loss= keras.losses.mean_squared_error, optimizer=keras.optimizers.SGD(learning_rate=0.01\r\n",
        "                                                                                    ))"
      ],
      "execution_count": null,
      "outputs": []
    },
    {
      "cell_type": "code",
      "metadata": {
        "colab": {
          "base_uri": "https://localhost:8080/"
        },
        "id": "F6P9RvAp02HT",
        "outputId": "e4630685-486d-40e9-cb59-e1ac0220edd5"
      },
      "source": [
        "history = model.fit(X_train, y_train, validation_data=(X_valid,y_valid), epochs=20)"
      ],
      "execution_count": null,
      "outputs": [
        {
          "output_type": "stream",
          "text": [
            "Epoch 1/20\n",
            "363/363 [==============================] - 1s 2ms/step - loss: 1.3251 - val_loss: 2.2509\n",
            "Epoch 2/20\n",
            "363/363 [==============================] - 0s 1ms/step - loss: 0.6786 - val_loss: 0.6573\n",
            "Epoch 3/20\n",
            "363/363 [==============================] - 0s 1ms/step - loss: 0.5860 - val_loss: 0.4229\n",
            "Epoch 4/20\n",
            "363/363 [==============================] - 1s 1ms/step - loss: 0.4303 - val_loss: 0.3910\n",
            "Epoch 5/20\n",
            "363/363 [==============================] - 0s 1ms/step - loss: 0.3764 - val_loss: 0.3759\n",
            "Epoch 6/20\n",
            "363/363 [==============================] - 1s 1ms/step - loss: 0.3833 - val_loss: 0.3694\n",
            "Epoch 7/20\n",
            "363/363 [==============================] - 1s 1ms/step - loss: 0.3718 - val_loss: 0.3629\n",
            "Epoch 8/20\n",
            "363/363 [==============================] - 0s 1ms/step - loss: 0.3587 - val_loss: 0.3648\n",
            "Epoch 9/20\n",
            "363/363 [==============================] - 0s 1ms/step - loss: 0.3506 - val_loss: 0.3587\n",
            "Epoch 10/20\n",
            "363/363 [==============================] - 0s 1ms/step - loss: 0.3693 - val_loss: 0.3580\n",
            "Epoch 11/20\n",
            "363/363 [==============================] - 0s 1ms/step - loss: 0.3560 - val_loss: 0.3589\n",
            "Epoch 12/20\n",
            "363/363 [==============================] - 0s 1ms/step - loss: 0.3543 - val_loss: 0.3538\n",
            "Epoch 13/20\n",
            "363/363 [==============================] - 0s 1ms/step - loss: 0.3698 - val_loss: 0.3544\n",
            "Epoch 14/20\n",
            "363/363 [==============================] - 1s 1ms/step - loss: 0.3507 - val_loss: 0.3509\n",
            "Epoch 15/20\n",
            "363/363 [==============================] - 0s 1ms/step - loss: 0.3473 - val_loss: 0.3503\n",
            "Epoch 16/20\n",
            "363/363 [==============================] - 0s 1ms/step - loss: 0.3593 - val_loss: 0.3474\n",
            "Epoch 17/20\n",
            "363/363 [==============================] - 1s 1ms/step - loss: 0.3372 - val_loss: 0.3463\n",
            "Epoch 18/20\n",
            "363/363 [==============================] - 0s 1ms/step - loss: 0.3646 - val_loss: 0.3569\n",
            "Epoch 19/20\n",
            "363/363 [==============================] - 1s 1ms/step - loss: 0.3535 - val_loss: 0.3462\n",
            "Epoch 20/20\n",
            "363/363 [==============================] - 0s 1ms/step - loss: 0.3409 - val_loss: 0.3451\n"
          ],
          "name": "stdout"
        }
      ]
    },
    {
      "cell_type": "code",
      "metadata": {
        "colab": {
          "base_uri": "https://localhost:8080/"
        },
        "id": "FCP7DmWZ1A3l",
        "outputId": "96138df7-f728-4a74-ae6a-ece28c7d7091"
      },
      "source": [
        "mse_test= model.evaluate(X_test, y_test)"
      ],
      "execution_count": null,
      "outputs": [
        {
          "output_type": "stream",
          "text": [
            "162/162 [==============================] - 0s 869us/step - loss: 0.3525\n"
          ],
          "name": "stdout"
        }
      ]
    },
    {
      "cell_type": "code",
      "metadata": {
        "id": "AwjFfKvE1W_k"
      },
      "source": [
        "X_new = X_test[:3]"
      ],
      "execution_count": null,
      "outputs": []
    },
    {
      "cell_type": "code",
      "metadata": {
        "id": "NDPGnok21ftM"
      },
      "source": [
        "y_pred= model.predict(X_new)"
      ],
      "execution_count": null,
      "outputs": []
    },
    {
      "cell_type": "code",
      "metadata": {
        "colab": {
          "base_uri": "https://localhost:8080/"
        },
        "id": "i9SQiBfM1jOU",
        "outputId": "80e782bb-dbeb-4be1-c58f-c090927cc224"
      },
      "source": [
        "y_pred"
      ],
      "execution_count": null,
      "outputs": [
        {
          "output_type": "execute_result",
          "data": {
            "text/plain": [
              "array([[1.3695921],\n",
              "       [2.0992439],\n",
              "       [3.010931 ]], dtype=float32)"
            ]
          },
          "metadata": {
            "tags": []
          },
          "execution_count": 46
        }
      ]
    },
    {
      "cell_type": "code",
      "metadata": {
        "colab": {
          "base_uri": "https://localhost:8080/"
        },
        "id": "uk5L_4Ni1lbk",
        "outputId": "812a3b9e-7139-430a-cf26-866bf0e9ef50"
      },
      "source": [
        "y_new= y_test[:3]\r\n",
        "y_new"
      ],
      "execution_count": null,
      "outputs": [
        {
          "output_type": "execute_result",
          "data": {
            "text/plain": [
              "array([0.989, 1.14 , 2.653])"
            ]
          },
          "metadata": {
            "tags": []
          },
          "execution_count": 47
        }
      ]
    },
    {
      "cell_type": "code",
      "metadata": {
        "id": "9CRKWCpG1sFE"
      },
      "source": [
        ""
      ],
      "execution_count": null,
      "outputs": []
    }
  ]
}