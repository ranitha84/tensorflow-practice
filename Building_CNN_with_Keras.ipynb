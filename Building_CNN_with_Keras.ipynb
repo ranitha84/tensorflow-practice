{
  "nbformat": 4,
  "nbformat_minor": 0,
  "metadata": {
    "colab": {
      "name": "Building CNN with Keras.ipynb",
      "provenance": [],
      "authorship_tag": "ABX9TyNtQyuqpFwHP15IP3HB1/z0",
      "include_colab_link": true
    },
    "kernelspec": {
      "name": "python3",
      "display_name": "Python 3"
    }
  },
  "cells": [
    {
      "cell_type": "markdown",
      "metadata": {
        "id": "view-in-github",
        "colab_type": "text"
      },
      "source": [
        "<a href=\"https://colab.research.google.com/github/ranitha84/tensorflow-practice/blob/main/Building_CNN_with_Keras.ipynb\" target=\"_parent\"><img src=\"https://colab.research.google.com/assets/colab-badge.svg\" alt=\"Open In Colab\"/></a>"
      ]
    },
    {
      "cell_type": "markdown",
      "metadata": {
        "id": "f4_SHVEEae1B"
      },
      "source": [
        "# Building a Basic CNN: The MNIST Dataset\r\n",
        "\r\n",
        "In this notebook, we will build a simple CNN-based architecture to classify the 10 digits (0-9) of the MNIST dataset. The objective of this notebook is to become familiar with the process of building CNNs in Keras.\r\n",
        "\r\n",
        "We will go through the following steps:\r\n",
        "1. Importing libraries and the dataset\r\n",
        "2. Data preparation: Train-test split, specifying the shape of the input data etc.\r\n",
        "3. Building and understanding the CNN architecture \r\n",
        "4. Fitting and evaluating the model"
      ]
    },
    {
      "cell_type": "markdown",
      "metadata": {
        "id": "sOQy4i-1akaQ"
      },
      "source": [
        "## 1. Importing Libraries and the Dataset\r\n",
        "\r\n",
        "Let's load the required libraries. From Keras, we need to import two main components:\r\n",
        "1. `Sequential` from `keras.models`: `Sequential` is the keras abstraction for creating models with a stack of layers (MLP has multiple hidden layers, CNNs have convolutional layers, etc.). \r\n",
        "2. Various types of layers from `keras.layers`: These layers are added (one after the other) to the `Sequential` model\r\n",
        "\r\n",
        "The keras `backend` is needed for keras to know that you are using tensorflow (not Theano) at the backend (the backend is <a href=\"https://keras.io/backend/\">specified in a JSON file</a>). \r\n"
      ]
    },
    {
      "cell_type": "code",
      "metadata": {
        "id": "qbgy4T6mab1L"
      },
      "source": [
        "import numpy as np\r\n",
        "import random\r\n",
        "import tensorflow as tf\r\n",
        "from tensorflow.keras.datasets import mnist\r\n",
        "from tensorflow.keras import Sequential\r\n",
        "from tensorflow.keras.layers import Dense, Dropout, Flatten, Conv2D, MaxPooling2D\r\n",
        "from sklearn.model_selection import train_test_split"
      ],
      "execution_count": 21,
      "outputs": []
    },
    {
      "cell_type": "code",
      "metadata": {
        "id": "vAQLTdW6ag0p"
      },
      "source": [
        "(x_train, y_train), (x_test, y_test) = mnist.load_data()"
      ],
      "execution_count": 22,
      "outputs": []
    },
    {
      "cell_type": "code",
      "metadata": {
        "colab": {
          "base_uri": "https://localhost:8080/"
        },
        "id": "EZJshT8kayRB",
        "outputId": "f14dc7d5-3ef3-45ba-a289-316b6f685fe3"
      },
      "source": [
        "print(\"train data\")\r\n",
        "print(x_train.shape)\r\n",
        "print(y_train.shape)\r\n",
        "print(\"\\n test data\")\r\n",
        "print(x_test.shape)\r\n",
        "print(y_test.shape)"
      ],
      "execution_count": 23,
      "outputs": [
        {
          "output_type": "stream",
          "text": [
            "train data\n",
            "(60000, 28, 28)\n",
            "(60000,)\n",
            "\n",
            " test data\n",
            "(10000, 28, 28)\n",
            "(10000,)\n"
          ],
          "name": "stdout"
        }
      ]
    },
    {
      "cell_type": "markdown",
      "metadata": {
        "id": "OJRqAyIpa3Fa"
      },
      "source": [
        "So we have 60,000 training and 10,000 test images each of size 28 x 28. Note that the images are grayscale and thus are stored as 2D arrays.<br> \r\n",
        "\r\n",
        "Also, let's sample only 20k images for training (just to speed up the training a bit)."
      ]
    },
    {
      "cell_type": "code",
      "metadata": {
        "colab": {
          "base_uri": "https://localhost:8080/"
        },
        "id": "Je-0yT9_a1iY",
        "outputId": "75762382-5ffb-46f4-a71b-2ef7d21f5f3f"
      },
      "source": [
        "\r\n",
        "np.random.seed(1)\r\n",
        "# sample only 20k images for training\r\n",
        "idx = np.random.randint(x_train.shape[0], size=20000) # sample 20k indices from 0-60,000\r\n",
        "x_train = x_train[idx, :]\r\n",
        "y_train = y_train[idx]\r\n",
        "print(x_train.shape)\r\n",
        "print(y_train.shape)"
      ],
      "execution_count": 24,
      "outputs": [
        {
          "output_type": "stream",
          "text": [
            "(20000, 28, 28)\n",
            "(20000,)\n"
          ],
          "name": "stdout"
        }
      ]
    },
    {
      "cell_type": "markdown",
      "metadata": {
        "id": "PNs7nMlvbqwC"
      },
      "source": [
        "## 2. Data Preparation\r\n",
        "\r\n",
        "Let's prepare the dataset for feeding to the network. We will do the following three main steps:<br>\r\n",
        "\r\n",
        "#### 2.1 Reshape the Data\r\n",
        "First, let's understand the shape in which the network expects the training data. \r\n",
        "Since we have 20,000 training samples each of size (28, 28, 1), the training data (`x_train`) needs to be of the shape `(20000, 28, 28, 1)`. If the images were coloured, the shape would have been `(20000, 28, 28, 3)`.\r\n",
        "\r\n",
        "Further, each of the 20,000 images have a 0-9 label, so `y_train` needs to be of the shape `(20000, 10)` where each image's label is represented as a 10-d **one-hot encoded vector**.\r\n",
        "\r\n",
        "The shapes of `x_test` and `y_test` will be the same as that of `x_train` and `y_train` respectively.\r\n",
        "\r\n",
        "#### 2.2 Rescaling (Normalisation)\r\n",
        "The value of each pixel is between 0-255, so we will **rescale each pixel** by dividing by 255 so that the range becomes 0-1. Recollect <a href=\"https://stats.stackexchange.com/questions/185853/why-do-we-need-to-normalize-the-images-before-we-put-them-into-cnn\">why normalisation is important for training NNs</a>.\r\n",
        "\r\n",
        "#### 2.3 Converting Input Data Type: Int to Float\r\n",
        "The pixels are originally stored as type `int`, but it is advisable to feed the data as `float`. This is not really compulsory, but advisable. You can read <a href=\"https://datascience.stackexchange.com/questions/13636/neural-network-data-type-conversion-float-from-int\">why conversion from int to float is helpful here</a>."
      ]
    },
    {
      "cell_type": "code",
      "metadata": {
        "id": "4tFjM_yXbDBR"
      },
      "source": [
        "#specify input dimensions of each image\r\n",
        "img_rows, img_cols = 28, 28\r\n",
        "input_shape = (img_rows, img_cols, 1)\r\n",
        "\r\n",
        "# batch size, number of classes, epochs\r\n",
        "batch_size = 128\r\n",
        "num_classes = 10\r\n",
        "epochs = 12"
      ],
      "execution_count": 25,
      "outputs": []
    },
    {
      "cell_type": "markdown",
      "metadata": {
        "id": "X8ZiZ3sZbxG-"
      },
      "source": [
        "Lets first reshape xtrain and x_test "
      ]
    },
    {
      "cell_type": "code",
      "metadata": {
        "colab": {
          "base_uri": "https://localhost:8080/"
        },
        "id": "SGXMyoqobumJ",
        "outputId": "4d0747ad-fc39-4189-b55b-e65ed7a9f01e"
      },
      "source": [
        "x_train= x_train.reshape(x_train.shape[0], img_rows, img_cols,1)\r\n",
        "x_test =x_test.reshape(x_test.shape[0], img_rows, img_cols,1)\r\n",
        "\r\n",
        "print(x_train.shape)\r\n",
        "print(x_test.shape)"
      ],
      "execution_count": 26,
      "outputs": [
        {
          "output_type": "stream",
          "text": [
            "(20000, 28, 28, 1)\n",
            "(10000, 28, 28, 1)\n"
          ],
          "name": "stdout"
        }
      ]
    },
    {
      "cell_type": "markdown",
      "metadata": {
        "id": "wMiWL_YgcQvE"
      },
      "source": [
        "Lets now reshape y_train and y_test"
      ]
    },
    {
      "cell_type": "code",
      "metadata": {
        "colab": {
          "base_uri": "https://localhost:8080/"
        },
        "id": "Mq-gIbzYcKhB",
        "outputId": "571d1f61-874c-4260-e2c6-bdca046b6b10"
      },
      "source": [
        "y_train= tf.keras.utils.to_categorical(y_train, num_classes)\r\n",
        "y_test =tf.keras.utils.to_categorical(y_test, num_classes)\r\n",
        "\r\n",
        "print(y_train.shape)\r\n",
        "print(y_test.shape)"
      ],
      "execution_count": 27,
      "outputs": [
        {
          "output_type": "stream",
          "text": [
            "(20000, 10)\n",
            "(10000, 10)\n"
          ],
          "name": "stdout"
        }
      ]
    },
    {
      "cell_type": "code",
      "metadata": {
        "colab": {
          "base_uri": "https://localhost:8080/"
        },
        "id": "__Nh3ZiUckUy",
        "outputId": "f37ba542-a5d4-4983-e701-0e44da17a209"
      },
      "source": [
        "# originally, the pixels are stored as ints\r\n",
        "x_train.dtype"
      ],
      "execution_count": 28,
      "outputs": [
        {
          "output_type": "execute_result",
          "data": {
            "text/plain": [
              "dtype('uint8')"
            ]
          },
          "metadata": {
            "tags": []
          },
          "execution_count": 28
        }
      ]
    },
    {
      "cell_type": "code",
      "metadata": {
        "id": "P-HHprbrcwcy"
      },
      "source": [
        "x_train= x_train.astype('float32')\r\n",
        "x_test = x_test.astype('float32')\r\n",
        "\r\n",
        "# normalizing by diving the pixels by 255 \r\n",
        "x_train /= 255\r\n",
        "x_test /= 255"
      ],
      "execution_count": 29,
      "outputs": []
    },
    {
      "cell_type": "markdown",
      "metadata": {
        "id": "7N86JkykdDan"
      },
      "source": [
        "# Builiding the model\r\n",
        "\r\n",
        "Let's now build the CNN architecture. For the MNIST dataset, we do not need to build a very sophisticated CNN - a simple shallow-ish CNN would suffice. \r\n",
        "\r\n",
        "We will build a network with:\r\n",
        "- two convolutional layers having 32 and 64 filters respectively, \r\n",
        "- followed by a max pooling layer, \r\n",
        "- and then `Flatten` the output of the pooling layer to give us a long vector, \r\n",
        "- then add a fully connected `Dense` layer with 128 neurons, and finally\r\n",
        "- add a `softmax` layer with 10 neurons\r\n",
        "\r\n",
        "The generic way to build a model in Keras is to instantiate a `Sequential` model and keep adding `keras.layers` to it. We will also use some dropouts."
      ]
    },
    {
      "cell_type": "code",
      "metadata": {
        "colab": {
          "base_uri": "https://localhost:8080/"
        },
        "id": "aoZa43yWc__R",
        "outputId": "c1cf0d30-e29a-4b8e-bd81-25d570b26388"
      },
      "source": [
        "model = Sequential()\r\n",
        "# a keras convolutional layer is called Conv2D\r\n",
        "# help(Conv2D)\r\n",
        "# note that the first layer needs to be told the input shape explicitly\r\n",
        "\r\n",
        "# first conv layer\r\n",
        "model.add(Conv2D(32, kernel_size=(3,3), activation='relu',input_shape=input_shape))\r\n",
        "\r\n",
        "# second conv layer\r\n",
        "model.add(Conv2D(64, kernel_size=(3, 3), activation='relu'))\r\n",
        "\r\n",
        "# third pooling layer\r\n",
        "model.add(MaxPooling2D(pool_size=(2,2)))\r\n",
        "\r\n",
        "model.add(Dropout(0.25))\r\n",
        "\r\n",
        "# flatten and put a fully connected layer\r\n",
        "model.add(Flatten())\r\n",
        "model.add(Dense(128, activation='relu')) # fully connected\r\n",
        "model.add(Dropout(0.5))\r\n",
        "\r\n",
        "# softmax layer\r\n",
        "model.add(Dense(num_classes, activation='softmax'))\r\n",
        "\r\n",
        "# model summary\r\n",
        "model.summary()"
      ],
      "execution_count": 30,
      "outputs": [
        {
          "output_type": "stream",
          "text": [
            "Model: \"sequential_4\"\n",
            "_________________________________________________________________\n",
            "Layer (type)                 Output Shape              Param #   \n",
            "=================================================================\n",
            "conv2d_4 (Conv2D)            (None, 26, 26, 32)        320       \n",
            "_________________________________________________________________\n",
            "conv2d_5 (Conv2D)            (None, 24, 24, 64)        18496     \n",
            "_________________________________________________________________\n",
            "max_pooling2d_1 (MaxPooling2 (None, 12, 12, 64)        0         \n",
            "_________________________________________________________________\n",
            "dropout_2 (Dropout)          (None, 12, 12, 64)        0         \n",
            "_________________________________________________________________\n",
            "flatten_1 (Flatten)          (None, 9216)              0         \n",
            "_________________________________________________________________\n",
            "dense_2 (Dense)              (None, 128)               1179776   \n",
            "_________________________________________________________________\n",
            "dropout_3 (Dropout)          (None, 128)               0         \n",
            "_________________________________________________________________\n",
            "dense_3 (Dense)              (None, 10)                1290      \n",
            "=================================================================\n",
            "Total params: 1,199,882\n",
            "Trainable params: 1,199,882\n",
            "Non-trainable params: 0\n",
            "_________________________________________________________________\n"
          ],
          "name": "stdout"
        }
      ]
    },
    {
      "cell_type": "markdown",
      "metadata": {
        "id": "SWOlOUIyefL8"
      },
      "source": [
        "#### Understanding Model Summary\r\n",
        "\r\n",
        "It is a good practice to spend some time staring at the model summary above and verify the number of parameteres, output sizes etc. Let's do some calculations to verify that we understand the model deeply enough. \r\n",
        "\r\n",
        "- Layer-1 (Conv2D): We have used 32 kernels of size (3, 3), and each kernel has a single bias, so we have 32 x 3 x 3 (weights) + 32 (biases) = 320 parameters (all trainable). Note that the kernels have only one channel since the input images are 2D (grayscale). By default, a convolutional layer uses stride of 1 and no padding, so the output from this layer is of shape 26 x 26 x 32, as shown in the summary above (the first element `None` is for the batch size).\r\n",
        "\r\n",
        "- Layer-2 (Conv2D): We have used 64 kernels of size (3, 3), but this time, each kernel has to convolve a tensor of size (26, 26, 32) from the previous layer. Thus, the kernels will also have 32 channels, and so the shape of each kernel is (3, 3, 32) (and we have 64 of them). So we have 64 x 3 x 3 x 32 (weights) + 64 (biases) = 18496 parameters (all trainable). The output shape is (24, 24, 64) since each kernel produces a (24, 24) feature map.\r\n",
        "\r\n",
        "- Max pooling: The pooling layer gets the (24, 24, 64) input from the previous conv layer and produces a (12, 12, 64) output (the default pooling uses stride of 2). There are no trainable parameters in the pooling layer.\r\n",
        "\r\n",
        "- The `Dropout` layer does not alter the output shape and has no trainable parameters.\r\n",
        "\r\n",
        "- The `Flatten` layer simply takes in the (12, 12, 64) output from the previous layer and 'flattens' it into a vector of length 12 x 12 x 64 = 9216.\r\n",
        "\r\n",
        "- The `Dense` layer is a plain fully connected layer with 128 neurons. It takes the 9216-dimensional output vector from the previous layer (layer l-1) as the input and has 128 x 9216 (weights) + 128 (biases) =  1179776 trainable parameters. The output of this layer is a 128-dimensional vector.\r\n",
        "\r\n",
        "- The `Dropout` layer simply drops a few neurons.\r\n",
        "\r\n",
        "- Finally, we have a `Dense` softmax layer with 10 neurons which takes the 128-dimensional vector from the previous layer as input. It has 128 x 10 (weights) + 10 (biases) = 1290 trainable parameters.\r\n",
        "\r\n",
        "Thus, the total number of parameters are 1,199,882 all of which are trainable."
      ]
    },
    {
      "cell_type": "markdown",
      "metadata": {
        "id": "tZi6rIcifGGu"
      },
      "source": [
        "## 4. Fitting and Evaluating the Model\r\n",
        "\r\n",
        "Let's now compile and train the model."
      ]
    },
    {
      "cell_type": "code",
      "metadata": {
        "id": "aUp5vJ8CdgND"
      },
      "source": [
        "model.compile(loss= tf.keras.losses.categorical_crossentropy,\r\n",
        "              optimizer= tf.keras.optimizers.Adadelta(),\r\n",
        "              metrics=['accuracy'])"
      ],
      "execution_count": 31,
      "outputs": []
    },
    {
      "cell_type": "code",
      "metadata": {
        "colab": {
          "base_uri": "https://localhost:8080/"
        },
        "id": "qYTyj6IMfb4L",
        "outputId": "ba894fb9-5e8b-4ad6-9677-ecfa4114f055"
      },
      "source": [
        "# fit and train the model\r\n",
        "model.fit(x_train, y_train,\r\n",
        "          batch_size=batch_size,\r\n",
        "          epochs=epochs,\r\n",
        "          verbose=1,\r\n",
        "          validation_data=(x_test, y_test)\r\n",
        ")"
      ],
      "execution_count": 32,
      "outputs": [
        {
          "output_type": "stream",
          "text": [
            "Epoch 1/12\n",
            "157/157 [==============================] - 54s 343ms/step - loss: 2.3049 - accuracy: 0.0984 - val_loss: 2.2818 - val_accuracy: 0.1458\n",
            "Epoch 2/12\n",
            "157/157 [==============================] - 54s 347ms/step - loss: 2.2830 - accuracy: 0.1299 - val_loss: 2.2597 - val_accuracy: 0.2659\n",
            "Epoch 3/12\n",
            "157/157 [==============================] - 53s 335ms/step - loss: 2.2618 - accuracy: 0.1745 - val_loss: 2.2367 - val_accuracy: 0.3728\n",
            "Epoch 4/12\n",
            "157/157 [==============================] - 53s 337ms/step - loss: 2.2438 - accuracy: 0.2109 - val_loss: 2.2124 - val_accuracy: 0.4567\n",
            "Epoch 5/12\n",
            "157/157 [==============================] - 53s 338ms/step - loss: 2.2186 - accuracy: 0.2618 - val_loss: 2.1862 - val_accuracy: 0.5182\n",
            "Epoch 6/12\n",
            "157/157 [==============================] - 53s 338ms/step - loss: 2.1962 - accuracy: 0.2992 - val_loss: 2.1580 - val_accuracy: 0.5671\n",
            "Epoch 7/12\n",
            "157/157 [==============================] - 53s 339ms/step - loss: 2.1679 - accuracy: 0.3397 - val_loss: 2.1271 - val_accuracy: 0.6046\n",
            "Epoch 8/12\n",
            "157/157 [==============================] - 53s 339ms/step - loss: 2.1397 - accuracy: 0.3708 - val_loss: 2.0929 - val_accuracy: 0.6322\n",
            "Epoch 9/12\n",
            "157/157 [==============================] - 53s 336ms/step - loss: 2.1061 - accuracy: 0.4103 - val_loss: 2.0549 - val_accuracy: 0.6594\n",
            "Epoch 10/12\n",
            "157/157 [==============================] - 53s 339ms/step - loss: 2.0718 - accuracy: 0.4362 - val_loss: 2.0129 - val_accuracy: 0.6836\n",
            "Epoch 11/12\n",
            "157/157 [==============================] - 54s 342ms/step - loss: 2.0299 - accuracy: 0.4622 - val_loss: 1.9660 - val_accuracy: 0.7047\n",
            "Epoch 12/12\n",
            "157/157 [==============================] - 53s 339ms/step - loss: 1.9893 - accuracy: 0.4849 - val_loss: 1.9144 - val_accuracy: 0.7165\n"
          ],
          "name": "stdout"
        },
        {
          "output_type": "execute_result",
          "data": {
            "text/plain": [
              "<tensorflow.python.keras.callbacks.History at 0x7facb34d1908>"
            ]
          },
          "metadata": {
            "tags": []
          },
          "execution_count": 32
        }
      ]
    },
    {
      "cell_type": "code",
      "metadata": {
        "colab": {
          "base_uri": "https://localhost:8080/"
        },
        "id": "dbw6k-4wf1wD",
        "outputId": "8dc875ed-ff07-4933-ea40-4d8b6e9372e2"
      },
      "source": [
        "# evaluate the model on test data\r\n",
        "model.evaluate(x_test, y_test)"
      ],
      "execution_count": 33,
      "outputs": [
        {
          "output_type": "stream",
          "text": [
            "313/313 [==============================] - 7s 21ms/step - loss: 1.9144 - accuracy: 0.7165\n"
          ],
          "name": "stdout"
        },
        {
          "output_type": "execute_result",
          "data": {
            "text/plain": [
              "[1.9143757820129395, 0.7164999842643738]"
            ]
          },
          "metadata": {
            "tags": []
          },
          "execution_count": 33
        }
      ]
    },
    {
      "cell_type": "code",
      "metadata": {
        "colab": {
          "base_uri": "https://localhost:8080/"
        },
        "id": "EofKtVDcf3rK",
        "outputId": "85cb94dd-467d-4f32-a893-0319e4082cdd"
      },
      "source": [
        "print(model.metrics_names)"
      ],
      "execution_count": 34,
      "outputs": [
        {
          "output_type": "stream",
          "text": [
            "['loss', 'accuracy']\n"
          ],
          "name": "stdout"
        }
      ]
    },
    {
      "cell_type": "code",
      "metadata": {
        "id": "_ZjgQt8Hia63"
      },
      "source": [
        ""
      ],
      "execution_count": 34,
      "outputs": []
    }
  ]
}