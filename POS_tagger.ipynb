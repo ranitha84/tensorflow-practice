{
  "nbformat": 4,
  "nbformat_minor": 0,
  "metadata": {
    "kernelspec": {
      "display_name": "Python 3",
      "language": "python",
      "name": "python3"
    },
    "language_info": {
      "codemirror_mode": {
        "name": "ipython",
        "version": 3
      },
      "file_extension": ".py",
      "mimetype": "text/x-python",
      "name": "python",
      "nbconvert_exporter": "python",
      "pygments_lexer": "ipython3",
      "version": "3.7.3"
    },
    "colab": {
      "name": "POS_tagger.ipynb",
      "provenance": [],
      "toc_visible": true,
      "include_colab_link": true
    }
  },
  "cells": [
    {
      "cell_type": "markdown",
      "metadata": {
        "id": "view-in-github",
        "colab_type": "text"
      },
      "source": [
        "<a href=\"https://colab.research.google.com/github/ranitha84/tensorflow-practice/blob/main/POS_tagger.ipynb\" target=\"_parent\"><img src=\"https://colab.research.google.com/assets/colab-badge.svg\" alt=\"Open In Colab\"/></a>"
      ]
    },
    {
      "cell_type": "markdown",
      "metadata": {
        "id": "CMVew_ROmoAo"
      },
      "source": [
        "# POS Tagging - An Overview"
      ]
    },
    {
      "cell_type": "markdown",
      "metadata": {
        "id": "3i7LYtMdmoAy"
      },
      "source": [
        "# Notebook layout\n",
        "1. Preprocess data\n",
        "2. Vanilla RNN\n",
        "3. Word Embeddings\n",
        "4. LSTM\n",
        "5. GRU\n",
        "6. Bidirectional LSTM\n",
        "7. Model Evaluation"
      ]
    },
    {
      "cell_type": "markdown",
      "metadata": {
        "id": "g-lE6Cr-moAw"
      },
      "source": [
        "The process of classifying words into their __parts of speech__ and labeling them accordingly is known as **part-of-speech tagging**, or simply **POS-tagging**.\n",
        "\n",
        "The NLTK library has a number of corpora which contains word and its POS tag. The following table provide information about each tag:\n",
        "\n",
        "![POS tags](./jupyter resources/pos_tagging.png)"
      ]
    },
    {
      "cell_type": "code",
      "metadata": {
        "colab": {
          "base_uri": "https://localhost:8080/"
        },
        "id": "RQYdz2u93qGU",
        "outputId": "86281b5c-a37b-4ec2-aef2-6eecac08a0f4"
      },
      "source": [
        "from google.colab import drive\n",
        "drive.mount('/content/drive')"
      ],
      "execution_count": 1,
      "outputs": [
        {
          "output_type": "stream",
          "text": [
            "Mounted at /content/drive\n"
          ],
          "name": "stdout"
        }
      ]
    },
    {
      "cell_type": "code",
      "metadata": {
        "id": "O-UIikhemoAy"
      },
      "source": [
        "# import necessary libraries\n",
        "import warnings\n",
        "warnings.filterwarnings(\"ignore\")\n",
        "\n",
        "import numpy as np\n",
        "\n",
        "from matplotlib import pyplot as plt\n",
        "\n",
        "from nltk.corpus import brown\n",
        "from nltk.corpus import treebank\n",
        "from nltk.corpus import conll2000\n",
        "\n",
        "import seaborn as sns\n",
        "\n",
        "from gensim.models import KeyedVectors\n",
        "\n",
        "from tensorflow.keras.preprocessing.sequence import pad_sequences\n",
        "from tensorflow.keras.utils import to_categorical\n",
        "from tensorflow.keras import Sequential, Input, Model\n",
        "from tensorflow.keras.layers import Embedding, Dense, TimeDistributed, LSTM, GRU, Bidirectional, SimpleRNN, RNN\n",
        "from tensorflow.keras.preprocessing.text import Tokenizer\n",
        "\n",
        "from sklearn.model_selection import train_test_split\n",
        "from sklearn.utils import shuffle"
      ],
      "execution_count": 2,
      "outputs": []
    },
    {
      "cell_type": "markdown",
      "metadata": {
        "id": "tuRJy67emoAz"
      },
      "source": [
        "# 1. Preprocess data"
      ]
    },
    {
      "cell_type": "markdown",
      "metadata": {
        "id": "s5JsgXkEmoA0"
      },
      "source": [
        "## Load data"
      ]
    },
    {
      "cell_type": "code",
      "metadata": {
        "colab": {
          "base_uri": "https://localhost:8080/"
        },
        "id": "24e-fsMVmoA0",
        "outputId": "438f3f43-98ea-4bec-f3fe-a281c3cd6603"
      },
      "source": [
        "import nltk\n",
        "nltk.download('treebank')\n",
        "nltk.download('brown')\n",
        "nltk.download('conll2000')\n",
        "nltk.download('universal_tagset')\n",
        "\n",
        "# load POS tagged corpora from NLTK\n",
        "treebank_corpus = treebank.tagged_sents(tagset='universal')\n",
        "brown_corpus = brown.tagged_sents(tagset='universal')\n",
        "conll_corpus = conll2000.tagged_sents(tagset='universal')\n",
        "tagged_sentences = treebank_corpus + brown_corpus + conll_corpus"
      ],
      "execution_count": 3,
      "outputs": [
        {
          "output_type": "stream",
          "text": [
            "[nltk_data] Downloading package treebank to /root/nltk_data...\n",
            "[nltk_data]   Unzipping corpora/treebank.zip.\n",
            "[nltk_data] Downloading package brown to /root/nltk_data...\n",
            "[nltk_data]   Unzipping corpora/brown.zip.\n",
            "[nltk_data] Downloading package conll2000 to /root/nltk_data...\n",
            "[nltk_data]   Unzipping corpora/conll2000.zip.\n",
            "[nltk_data] Downloading package universal_tagset to /root/nltk_data...\n",
            "[nltk_data]   Unzipping taggers/universal_tagset.zip.\n"
          ],
          "name": "stdout"
        }
      ]
    },
    {
      "cell_type": "code",
      "metadata": {
        "colab": {
          "base_uri": "https://localhost:8080/"
        },
        "id": "BH0LxdDImoA0",
        "outputId": "c3145754-1eba-47d4-deeb-c77881ea9001"
      },
      "source": [
        "# let's look at the data\n",
        "tagged_sentences[11]"
      ],
      "execution_count": 4,
      "outputs": [
        {
          "output_type": "execute_result",
          "data": {
            "text/plain": [
              "[('``', '.'),\n",
              " ('We', 'PRON'),\n",
              " ('have', 'VERB'),\n",
              " ('no', 'DET'),\n",
              " ('useful', 'ADJ'),\n",
              " ('information', 'NOUN'),\n",
              " ('on', 'ADP'),\n",
              " ('whether', 'ADP'),\n",
              " ('users', 'NOUN'),\n",
              " ('are', 'VERB'),\n",
              " ('at', 'ADP'),\n",
              " ('risk', 'NOUN'),\n",
              " (',', '.'),\n",
              " (\"''\", '.'),\n",
              " ('said', 'VERB'),\n",
              " ('*T*-1', 'X'),\n",
              " ('James', 'NOUN'),\n",
              " ('A.', 'NOUN'),\n",
              " ('Talcott', 'NOUN'),\n",
              " ('of', 'ADP'),\n",
              " ('Boston', 'NOUN'),\n",
              " (\"'s\", 'PRT'),\n",
              " ('Dana-Farber', 'NOUN'),\n",
              " ('Cancer', 'NOUN'),\n",
              " ('Institute', 'NOUN'),\n",
              " ('.', '.')]"
            ]
          },
          "metadata": {
            "tags": []
          },
          "execution_count": 4
        }
      ]
    },
    {
      "cell_type": "markdown",
      "metadata": {
        "id": "SJNRpl15moA1"
      },
      "source": [
        "## Divide data in words (X) and tags (Y)"
      ]
    },
    {
      "cell_type": "markdown",
      "metadata": {
        "id": "y4jPLAssmoA1"
      },
      "source": [
        "Since this is a **many-to-many** problem, each data point will be a different sentence of the corpora.\n",
        "\n",
        "Each data point will have multiple words in the **input sequence**. This is what we will refer to as **X**.\n",
        "\n",
        "Each word will have its correpsonding tag in the **output sequence**. This what we will refer to as **Y**.\n",
        "\n",
        "Sample dataset:\n",
        "\n",
        "|                    X                        |                 Y                |\n",
        "|---------------------------------------------|----------------------------------|\n",
        "|   Mr. Vinken is chairman of Elsevier        |   NOUN NOUN VERB NOUN ADP NOUN   |\n",
        "|     We have no useful information           |      PRON VERB DET ADJ NOUN      |"
      ]
    },
    {
      "cell_type": "code",
      "metadata": {
        "id": "PNK2E0DAmoA2"
      },
      "source": [
        "X = [] # store input sequence\n",
        "Y = [] # store output sequence\n",
        "\n",
        "for sentence in tagged_sentences:\n",
        "    X_sentence = []\n",
        "    Y_sentence = []\n",
        "    for entity in sentence:         \n",
        "        X_sentence.append(entity[0])  # entity[0] contains the word\n",
        "        Y_sentence.append(entity[1])  # entity[1] contains corresponding tag\n",
        "        \n",
        "    X.append(X_sentence)\n",
        "    Y.append(Y_sentence)"
      ],
      "execution_count": 5,
      "outputs": []
    },
    {
      "cell_type": "code",
      "metadata": {
        "id": "ffZVTEOYmoA3"
      },
      "source": [
        "num_words = len(set([word.lower() for sentence in X for word in sentence]))\n",
        "num_tags   = len(set([word.lower() for sentence in Y for word in sentence]))"
      ],
      "execution_count": 6,
      "outputs": []
    },
    {
      "cell_type": "code",
      "metadata": {
        "colab": {
          "base_uri": "https://localhost:8080/"
        },
        "id": "O6TCHx6nmoA4",
        "outputId": "01ca7324-47fa-4e17-c2dd-d4c2148c70ed"
      },
      "source": [
        "print(\"Total number of tagged sentences: {}\".format(len(X)))\n",
        "print(\"Vocabulary size: {}\".format(num_words))\n",
        "print(\"Total number of tags: {}\".format(num_tags))"
      ],
      "execution_count": 7,
      "outputs": [
        {
          "output_type": "stream",
          "text": [
            "Total number of tagged sentences: 72202\n",
            "Vocabulary size: 59448\n",
            "Total number of tags: 12\n"
          ],
          "name": "stdout"
        }
      ]
    },
    {
      "cell_type": "code",
      "metadata": {
        "colab": {
          "base_uri": "https://localhost:8080/"
        },
        "id": "girslsuxmoA5",
        "outputId": "fc3acd82-7acf-4967-aca0-d4c2c75695aa"
      },
      "source": [
        "# let's look at first data point\n",
        "# this is one data point that will be fed to the RNN\n",
        "print('sample X: ', X[0], '\\n')\n",
        "print('sample Y: ', Y[0], '\\n')"
      ],
      "execution_count": 8,
      "outputs": [
        {
          "output_type": "stream",
          "text": [
            "sample X:  ['Pierre', 'Vinken', ',', '61', 'years', 'old', ',', 'will', 'join', 'the', 'board', 'as', 'a', 'nonexecutive', 'director', 'Nov.', '29', '.'] \n",
            "\n",
            "sample Y:  ['NOUN', 'NOUN', '.', 'NUM', 'NOUN', 'ADJ', '.', 'VERB', 'VERB', 'DET', 'NOUN', 'ADP', 'DET', 'ADJ', 'NOUN', 'NOUN', 'NUM', '.'] \n",
            "\n"
          ],
          "name": "stdout"
        }
      ]
    },
    {
      "cell_type": "code",
      "metadata": {
        "colab": {
          "base_uri": "https://localhost:8080/"
        },
        "id": "18QevDd1moA5",
        "outputId": "c3fb3ce5-bcc9-4900-9a4b-3df48ab522f1"
      },
      "source": [
        "# In this many-to-many problem, the length of each input and output sequence must be the same.\n",
        "# Since each word is tagged, it's important to make sure that the length of input sequence equals the output sequence\n",
        "print(\"Length of first input sequence  : {}\".format(len(X[0])))\n",
        "print(\"Length of first output sequence : {}\".format(len(Y[0])))"
      ],
      "execution_count": 9,
      "outputs": [
        {
          "output_type": "stream",
          "text": [
            "Length of first input sequence  : 18\n",
            "Length of first output sequence : 18\n"
          ],
          "name": "stdout"
        }
      ]
    },
    {
      "cell_type": "markdown",
      "metadata": {
        "id": "pYwJE4r6moA6"
      },
      "source": [
        "## Vectorise X and Y"
      ]
    },
    {
      "cell_type": "markdown",
      "metadata": {
        "id": "4fQ6WJXEmoA6"
      },
      "source": [
        "#### Encode X and Y to integer values\n",
        "\n",
        "We'll use the Tokenizer() function from Keras library to encode text sequence to integer sequence"
      ]
    },
    {
      "cell_type": "code",
      "metadata": {
        "id": "epP_bOqcmoA6"
      },
      "source": [
        "# encode X\n",
        "\n",
        "word_tokenizer = Tokenizer()                      # instantiate tokeniser\n",
        "word_tokenizer.fit_on_texts(X)                    # fit tokeniser on data\n",
        "X_encoded = word_tokenizer.texts_to_sequences(X)  # use the tokeniser to encode input sequence"
      ],
      "execution_count": 10,
      "outputs": []
    },
    {
      "cell_type": "code",
      "metadata": {
        "id": "rHpR-X_0moA6"
      },
      "source": [
        "# encode Y\n",
        "\n",
        "tag_tokenizer = Tokenizer()\n",
        "tag_tokenizer.fit_on_texts(Y)\n",
        "Y_encoded = tag_tokenizer.texts_to_sequences(Y)"
      ],
      "execution_count": 11,
      "outputs": []
    },
    {
      "cell_type": "code",
      "metadata": {
        "colab": {
          "base_uri": "https://localhost:8080/"
        },
        "id": "RYIicoNdmoA7",
        "outputId": "7c2d845d-b16b-4a00-803f-534fb26ea0e4"
      },
      "source": [
        "# look at first encoded data point\n",
        "\n",
        "print(\"** Raw data point **\", \"\\n\", \"-\"*100, \"\\n\")\n",
        "print('X: ', X[0], '\\n')\n",
        "print('Y: ', Y[0], '\\n')\n",
        "print()\n",
        "print(\"** Encoded data point **\", \"\\n\", \"-\"*100, \"\\n\")\n",
        "print('X: ', X_encoded[0], '\\n')\n",
        "print('Y: ', Y_encoded[0], '\\n')"
      ],
      "execution_count": 12,
      "outputs": [
        {
          "output_type": "stream",
          "text": [
            "** Raw data point ** \n",
            " ---------------------------------------------------------------------------------------------------- \n",
            "\n",
            "X:  ['Pierre', 'Vinken', ',', '61', 'years', 'old', ',', 'will', 'join', 'the', 'board', 'as', 'a', 'nonexecutive', 'director', 'Nov.', '29', '.'] \n",
            "\n",
            "Y:  ['NOUN', 'NOUN', '.', 'NUM', 'NOUN', 'ADJ', '.', 'VERB', 'VERB', 'DET', 'NOUN', 'ADP', 'DET', 'ADJ', 'NOUN', 'NOUN', 'NUM', '.'] \n",
            "\n",
            "\n",
            "** Encoded data point ** \n",
            " ---------------------------------------------------------------------------------------------------- \n",
            "\n",
            "X:  [6423, 24231, 2, 7652, 102, 170, 2, 47, 1898, 1, 269, 17, 7, 13230, 619, 1711, 2761, 3] \n",
            "\n",
            "Y:  [1, 1, 3, 11, 1, 6, 3, 2, 2, 5, 1, 4, 5, 6, 1, 1, 11, 3] \n",
            "\n"
          ],
          "name": "stdout"
        }
      ]
    },
    {
      "cell_type": "code",
      "metadata": {
        "colab": {
          "base_uri": "https://localhost:8080/"
        },
        "id": "lvfA8HQhmoA7",
        "outputId": "043559b6-0dc2-4a3e-aba7-bc6b055f1b1f"
      },
      "source": [
        "# make sure that each sequence of input and output is same length\n",
        "\n",
        "different_length = [1 if len(input) != len(output) else 0 for input, output in zip(X_encoded, Y_encoded)]\n",
        "print(\"{} sentences have disparate input-output lengths.\".format(sum(different_length)))"
      ],
      "execution_count": 13,
      "outputs": [
        {
          "output_type": "stream",
          "text": [
            "0 sentences have disparate input-output lengths.\n"
          ],
          "name": "stdout"
        }
      ]
    },
    {
      "cell_type": "markdown",
      "metadata": {
        "id": "4WLocrw0moA7"
      },
      "source": [
        "## Pad sequences"
      ]
    },
    {
      "cell_type": "markdown",
      "metadata": {
        "id": "jhsDnYqFmoA7"
      },
      "source": [
        "The next step after encoding the data is to **define the sequence lengths**. As of now, the sentences present in the data are of various lengths. We need to either pad short sentences or truncate long sentences to a fixed length. This fixed length, however, is a **hyperparameter**."
      ]
    },
    {
      "cell_type": "code",
      "metadata": {
        "colab": {
          "base_uri": "https://localhost:8080/"
        },
        "id": "ZNb8eQbvmoA8",
        "outputId": "cde5a5f2-291b-4436-c486-dc55b1aa0e86"
      },
      "source": [
        "# check length of longest sentence\n",
        "lengths = [len(seq) for seq in X_encoded]\n",
        "print(\"Length of longest sentence: {}\".format(max(lengths)))"
      ],
      "execution_count": 14,
      "outputs": [
        {
          "output_type": "stream",
          "text": [
            "Length of longest sentence: 271\n"
          ],
          "name": "stdout"
        }
      ]
    },
    {
      "cell_type": "code",
      "metadata": {
        "colab": {
          "base_uri": "https://localhost:8080/",
          "height": 265
        },
        "id": "C2qoa8EqmoA8",
        "outputId": "9f8bd197-a43e-4503-dcc5-dc34f2c0c6ab"
      },
      "source": [
        "sns.boxplot(lengths)\n",
        "plt.show()"
      ],
      "execution_count": 15,
      "outputs": [
        {
          "output_type": "display_data",
          "data": {
            "image/png": "[encoded data removed]",
            "text/plain": [
              "<Figure size 432x288 with 1 Axes>"
            ]
          },
          "metadata": {
            "tags": [],
            "needs_background": "light"
          }
        }
      ]
    },
    {
      "cell_type": "code",
      "metadata": {
        "id": "9xLYpuVUmoA8"
      },
      "source": [
        "# Pad each sequence to MAX_SEQ_LENGTH using KERAS' pad_sequences() function. \n",
        "# Sentences longer than MAX_SEQ_LENGTH are truncated.\n",
        "# Sentences shorter than MAX_SEQ_LENGTH are padded with zeroes.\n",
        "\n",
        "# Truncation and padding can either be 'pre' or 'post'. \n",
        "# For padding we are using 'pre' padding type, that is, add zeroes on the left side.\n",
        "# For truncation, we are using 'post', that is, truncate a sentence from right side.\n",
        "\n",
        "MAX_SEQ_LENGTH = 100  # sequences greater than 100 in length will be truncated\n",
        "\n",
        "X_padded = pad_sequences(X_encoded, maxlen=MAX_SEQ_LENGTH, padding=\"pre\", truncating=\"post\")\n",
        "Y_padded = pad_sequences(Y_encoded, maxlen=MAX_SEQ_LENGTH, padding=\"pre\", truncating=\"post\")"
      ],
      "execution_count": 16,
      "outputs": []
    },
    {
      "cell_type": "code",
      "metadata": {
        "scrolled": true,
        "colab": {
          "base_uri": "https://localhost:8080/"
        },
        "id": "rv3WrZcymoA8",
        "outputId": "a6399250-6c49-4906-b3ae-374d6770b238"
      },
      "source": [
        "# print the first sequence\n",
        "print(X_padded[0], \"\\n\"*3)\n",
        "print(Y_padded[0])"
      ],
      "execution_count": 17,
      "outputs": [
        {
          "output_type": "stream",
          "text": [
            "[    0     0     0     0     0     0     0     0     0     0     0     0\n",
            "     0     0     0     0     0     0     0     0     0     0     0     0\n",
            "     0     0     0     0     0     0     0     0     0     0     0     0\n",
            "     0     0     0     0     0     0     0     0     0     0     0     0\n",
            "     0     0     0     0     0     0     0     0     0     0     0     0\n",
            "     0     0     0     0     0     0     0     0     0     0     0     0\n",
            "     0     0     0     0     0     0     0     0     0     0  6423 24231\n",
            "     2  7652   102   170     2    47  1898     1   269    17     7 13230\n",
            "   619  1711  2761     3] \n",
            "\n",
            "\n",
            "\n",
            "[ 0  0  0  0  0  0  0  0  0  0  0  0  0  0  0  0  0  0  0  0  0  0  0  0\n",
            "  0  0  0  0  0  0  0  0  0  0  0  0  0  0  0  0  0  0  0  0  0  0  0  0\n",
            "  0  0  0  0  0  0  0  0  0  0  0  0  0  0  0  0  0  0  0  0  0  0  0  0\n",
            "  0  0  0  0  0  0  0  0  0  0  1  1  3 11  1  6  3  2  2  5  1  4  5  6\n",
            "  1  1 11  3]\n"
          ],
          "name": "stdout"
        }
      ]
    },
    {
      "cell_type": "markdown",
      "metadata": {
        "collapsed": true,
        "id": "xYQcfDPOmoA9"
      },
      "source": [
        "RNN will learn the zero to zero mapping while training. So we don't need to worry about the padded zeroes. Please note that zero is not reserved for any word or tag, it's only reserved for padding."
      ]
    },
    {
      "cell_type": "code",
      "metadata": {
        "id": "2sGnzqmEmoA-"
      },
      "source": [
        "# assign padded sequences to X and Y\n",
        "X, Y = X_padded, Y_padded"
      ],
      "execution_count": 18,
      "outputs": []
    },
    {
      "cell_type": "code",
      "metadata": {
        "id": "WLDPURr9DiM3",
        "outputId": "abe0e21f-4d49-4b21-966b-c8e4ec5470ad",
        "colab": {
          "base_uri": "https://localhost:8080/"
        }
      },
      "source": [
        "print(X.shape)\r\n",
        "print(Y.shape)"
      ],
      "execution_count": 19,
      "outputs": [
        {
          "output_type": "stream",
          "text": [
            "(72202, 100)\n",
            "(72202, 100)\n"
          ],
          "name": "stdout"
        }
      ]
    },
    {
      "cell_type": "markdown",
      "metadata": {
        "id": "3UNlWg8nmoA-"
      },
      "source": [
        "## Word embeddings"
      ]
    },
    {
      "cell_type": "markdown",
      "metadata": {
        "id": "IF6zJJhnmoA-"
      },
      "source": [
        "Currently, each word and each tag is encoded as an integer. \n",
        "\n",
        "We'll use a more sophisticated technique to represent the input words (X) using what's known as **word embeddings**.\n",
        "\n",
        "However, to represent each tag in Y, we'll simply use **one-hot encoding** scheme since there are only 13 tags in the dataset and the LSTM will have no problems in learning its own representation of these tags."
      ]
    },
    {
      "cell_type": "markdown",
      "metadata": {
        "id": "zPj7OBE-moA-"
      },
      "source": [
        "To use word embeddings, you can go for either of the following models:\n",
        "1. word2vec model: https://code.google.com/archive/p/word2vec/\n",
        "2. GloVe model : https://nlp.stanford.edu/projects/glove/\n",
        "\n",
        "We're using the word2vec model for no particular reason. Both of these are very efficient in representing words. You can try both and see which one works better.\n",
        "\n",
        "Dimensions of a word embedding is: (VOCABULARY_SIZE, EMBEDDING_DIMENSION)"
      ]
    },
    {
      "cell_type": "markdown",
      "metadata": {
        "id": "QYkIHsW4moBC"
      },
      "source": [
        "### Use word embeddings for input sequences (X)"
      ]
    },
    {
      "cell_type": "code",
      "metadata": {
        "id": "eeOWRXuXmoBD"
      },
      "source": [
        "# word2vec download link (Size ~ 1.5GB): https://drive.google.com/file/d/0B7XkCwpI5KDYNlNUTTlSS21pQmM/edit\n",
        "\n",
        "path = '/content/drive/MyDrive/GoogleNews-vectors-negative300.bin.gz'\n",
        "\n",
        "# load word2vec using the following function present in the gensim library\n",
        "word2vec = KeyedVectors.load_word2vec_format(path, binary=True)"
      ],
      "execution_count": 20,
      "outputs": []
    },
    {
      "cell_type": "code",
      "metadata": {
        "colab": {
          "base_uri": "https://localhost:8080/"
        },
        "id": "3-e3ZmnFmoBD",
        "outputId": "c1666229-b8b4-47f9-9073-3afa0869df95"
      },
      "source": [
        "# word2vec effectiveness\n",
        "word2vec.most_similar(positive = [\"King\", \"Woman\"], negative = [\"Man\"])"
      ],
      "execution_count": 21,
      "outputs": [
        {
          "output_type": "execute_result",
          "data": {
            "text/plain": [
              "[('Queen', 0.4929388165473938),\n",
              " ('Tupou_V.', 0.45174291729927063),\n",
              " ('Oprah_BFF_Gayle', 0.4422132670879364),\n",
              " ('Jackson', 0.440250426530838),\n",
              " ('NECN_Alison', 0.43312832713127136),\n",
              " ('Whitfield', 0.42834725975990295),\n",
              " ('Ida_Vandross', 0.42084527015686035),\n",
              " ('prosecutor_Dan_Satterberg', 0.42075902223587036),\n",
              " ('martin_Luther_King', 0.42059648036956787),\n",
              " ('Coretta_King', 0.42027339339256287)]"
            ]
          },
          "metadata": {
            "tags": []
          },
          "execution_count": 21
        }
      ]
    },
    {
      "cell_type": "code",
      "metadata": {
        "colab": {
          "base_uri": "https://localhost:8080/"
        },
        "id": "5Sfxo7BhmoBE",
        "outputId": "81c5acbe-cf2e-456a-9374-67eff5a3a1a6"
      },
      "source": [
        "# assign word vectors from word2vec model\n",
        "\n",
        "EMBEDDING_SIZE  = 300  # each word in word2vec model is represented using a 300 dimensional vector\n",
        "VOCABULARY_SIZE = len(word_tokenizer.word_index) + 1\n",
        "print(VOCABULARY_SIZE)\n",
        "# create an empty embedding matix\n",
        "embedding_weights = np.zeros((VOCABULARY_SIZE, EMBEDDING_SIZE))\n",
        "\n",
        "# create a word to index dictionary mapping\n",
        "word2id = word_tokenizer.word_index\n",
        "\n",
        "# copy vectors from word2vec model to the words present in corpus\n",
        "for word, index in word2id.items():\n",
        "    try:\n",
        "        embedding_weights[index, :] = word2vec[word]\n",
        "    except KeyError:\n",
        "        pass"
      ],
      "execution_count": 22,
      "outputs": [
        {
          "output_type": "stream",
          "text": [
            "59449\n"
          ],
          "name": "stdout"
        }
      ]
    },
    {
      "cell_type": "code",
      "metadata": {
        "colab": {
          "base_uri": "https://localhost:8080/"
        },
        "id": "mjP9m7usmoBE",
        "outputId": "87a2bb43-0d12-4ec9-fa6d-355783b72d93"
      },
      "source": [
        "# check embedding dimension\n",
        "print(\"Embeddings shape: {}\".format(embedding_weights.shape))"
      ],
      "execution_count": 23,
      "outputs": [
        {
          "output_type": "stream",
          "text": [
            "Embeddings shape: (59449, 300)\n"
          ],
          "name": "stdout"
        }
      ]
    },
    {
      "cell_type": "code",
      "metadata": {
        "colab": {
          "base_uri": "https://localhost:8080/"
        },
        "id": "ahWE_MlmmoBE",
        "outputId": "6a37cf41-62bd-4958-ec53-a5dc02ed741c"
      },
      "source": [
        "# let's look at an embedding of a word\n",
        "embedding_weights[word_tokenizer.word_index['joy']]"
      ],
      "execution_count": 24,
      "outputs": [
        {
          "output_type": "execute_result",
          "data": {
            "text/plain": [
              "array([ 0.4453125 , -0.20019531,  0.20019531, -0.03149414,  0.078125  ,\n",
              "       -0.390625  ,  0.13671875, -0.13867188,  0.05395508,  0.10546875,\n",
              "       -0.05029297, -0.23730469,  0.19921875,  0.12597656, -0.12695312,\n",
              "        0.34179688,  0.06347656,  0.26757812, -0.07324219, -0.29101562,\n",
              "        0.10498047,  0.11914062,  0.23730469,  0.00640869,  0.12451172,\n",
              "       -0.00939941, -0.02770996,  0.03076172,  0.07421875, -0.22851562,\n",
              "       -0.08056641, -0.05273438,  0.16894531,  0.19824219, -0.15625   ,\n",
              "       -0.08740234,  0.10742188, -0.07177734,  0.05200195,  0.25976562,\n",
              "        0.171875  , -0.13574219,  0.06738281,  0.00531006,  0.15527344,\n",
              "       -0.03515625,  0.08789062,  0.3359375 , -0.12890625,  0.17578125,\n",
              "       -0.08642578,  0.32421875, -0.09033203,  0.35351562,  0.24316406,\n",
              "       -0.07470703, -0.06640625, -0.17578125,  0.06689453, -0.03833008,\n",
              "        0.0100708 , -0.21484375, -0.03686523,  0.04394531,  0.02209473,\n",
              "        0.00219727, -0.22460938,  0.03015137, -0.21582031,  0.16015625,\n",
              "        0.23339844, -0.16699219, -0.09228516,  0.10644531,  0.19335938,\n",
              "       -0.26757812,  0.15722656, -0.08691406,  0.11181641,  0.14941406,\n",
              "       -0.20507812,  0.04882812, -0.07519531, -0.21582031, -0.10107422,\n",
              "       -0.13378906, -0.06103516,  0.05444336,  0.07470703,  0.09521484,\n",
              "       -0.0144043 ,  0.27929688, -0.25585938, -0.05273438, -0.22460938,\n",
              "        0.10253906, -0.15136719,  0.21289062, -0.04711914, -0.12109375,\n",
              "        0.04663086,  0.25976562,  0.13574219,  0.00799561,  0.02001953,\n",
              "        0.1796875 ,  0.30664062,  0.06152344,  0.13574219, -0.09619141,\n",
              "       -0.07421875,  0.38671875,  0.20800781,  0.12695312,  0.05200195,\n",
              "        0.17675781, -0.16796875, -0.19335938, -0.06152344, -0.07568359,\n",
              "       -0.18457031,  0.06030273, -0.15136719, -0.1953125 , -0.23339844,\n",
              "        0.00738525, -0.02478027, -0.09765625, -0.06054688,  0.20214844,\n",
              "       -0.2734375 ,  0.00595093, -0.34570312, -0.12988281,  0.00418091,\n",
              "        0.09960938,  0.0246582 ,  0.15917969, -0.02038574,  0.30273438,\n",
              "       -0.20800781, -0.20214844, -0.03930664, -0.06494141,  0.00436401,\n",
              "       -0.02270508, -0.171875  ,  0.30273438, -0.16113281, -0.49414062,\n",
              "        0.3515625 ,  0.39257812,  0.09814453,  0.41796875,  0.05371094,\n",
              "        0.02392578, -0.03710938, -0.08251953, -0.38671875, -0.40625   ,\n",
              "       -0.05664062,  0.203125  , -0.01782227,  0.3359375 ,  0.19140625,\n",
              "       -0.44335938,  0.00927734,  0.24804688, -0.05102539,  0.19726562,\n",
              "        0.03881836,  0.03442383, -0.40039062, -0.09912109, -0.07128906,\n",
              "        0.21484375, -0.01422119,  0.04907227, -0.07421875, -0.21582031,\n",
              "       -0.41992188,  0.02172852,  0.11083984, -0.33398438, -0.2734375 ,\n",
              "       -0.05322266, -0.16601562, -0.28515625, -0.12207031,  0.04882812,\n",
              "       -0.0625    , -0.04077148, -0.16503906,  0.0480957 , -0.21191406,\n",
              "        0.20019531, -0.2109375 ,  0.10839844, -0.14648438, -0.07958984,\n",
              "       -0.05151367, -0.16601562, -0.24902344, -0.375     ,  0.05664062,\n",
              "       -0.13671875, -0.2578125 ,  0.28515625, -0.04736328,  0.13574219,\n",
              "       -0.14550781,  0.19433594, -0.21972656,  0.08447266, -0.10791016,\n",
              "       -0.11816406, -0.16015625,  0.12060547, -0.10888672,  0.04345703,\n",
              "        0.11474609, -0.08447266, -0.00720215,  0.03662109, -0.38671875,\n",
              "       -0.03881836, -0.03198242,  0.00344849,  0.22558594, -0.06787109,\n",
              "       -0.16699219,  0.2421875 ,  0.05712891,  0.27539062, -0.0456543 ,\n",
              "       -0.19042969, -0.17285156,  0.00836182, -0.03271484,  0.16992188,\n",
              "       -0.18554688, -0.0703125 , -0.32617188, -0.00668335, -0.02770996,\n",
              "        0.3359375 ,  0.125     , -0.2109375 ,  0.06005859, -0.07080078,\n",
              "        0.11132812,  0.125     ,  0.25390625,  0.29296875, -0.03125   ,\n",
              "        0.09033203, -0.20507812, -0.07861328,  0.02062988, -0.0546875 ,\n",
              "       -0.23339844,  0.00096893, -0.04516602,  0.16894531, -0.22167969,\n",
              "        0.08105469,  0.33398438,  0.09619141,  0.00866699, -0.03271484,\n",
              "        0.05493164,  0.12109375,  0.16210938, -0.10302734,  0.27148438,\n",
              "       -0.03344727, -0.30273438,  0.04223633,  0.08496094, -0.15527344,\n",
              "        0.10107422, -0.11474609, -0.13085938,  0.22949219,  0.12988281,\n",
              "        0.09863281, -0.03588867,  0.10693359, -0.24902344,  0.19238281,\n",
              "       -0.05322266, -0.09033203, -0.31640625, -0.5703125 , -0.15917969,\n",
              "        0.0291748 , -0.0246582 , -0.07714844, -0.04663086, -0.17578125])"
            ]
          },
          "metadata": {
            "tags": []
          },
          "execution_count": 24
        }
      ]
    },
    {
      "cell_type": "markdown",
      "metadata": {
        "id": "CFayGdgImoBE"
      },
      "source": [
        "### Use one-hot encoding for output sequences (Y)"
      ]
    },
    {
      "cell_type": "code",
      "metadata": {
        "colab": {
          "base_uri": "https://localhost:8080/"
        },
        "id": "Zwe7TrpemoBF",
        "outputId": "d60b0d52-5926-4349-add0-5619d19c793c"
      },
      "source": [
        "# use Keras' to_categorical function to one-hot encode Y\n",
        "print(Y.shape)\n",
        "Y = to_categorical(Y)"
      ],
      "execution_count": 25,
      "outputs": [
        {
          "output_type": "stream",
          "text": [
            "(72202, 100)\n"
          ],
          "name": "stdout"
        }
      ]
    },
    {
      "cell_type": "code",
      "metadata": {
        "colab": {
          "base_uri": "https://localhost:8080/"
        },
        "id": "RRYIb5wCmoBF",
        "outputId": "42c89e15-1b0a-470e-fd31-d18e69bfac22"
      },
      "source": [
        "# print Y of the first output sequqnce\n",
        "print(Y.shape)"
      ],
      "execution_count": 26,
      "outputs": [
        {
          "output_type": "stream",
          "text": [
            "(72202, 100, 13)\n"
          ],
          "name": "stdout"
        }
      ]
    },
    {
      "cell_type": "code",
      "metadata": {
        "id": "ork6tBlHDZPo",
        "outputId": "63e97b0f-3fe1-4ef6-8c50-15c80ba725d4",
        "colab": {
          "base_uri": "https://localhost:8080/"
        }
      },
      "source": [
        "print(X.shape)"
      ],
      "execution_count": 27,
      "outputs": [
        {
          "output_type": "stream",
          "text": [
            "(72202, 100)\n"
          ],
          "name": "stdout"
        }
      ]
    },
    {
      "cell_type": "markdown",
      "metadata": {
        "id": "qdb9xcBfmoBF"
      },
      "source": [
        "## Split data in training, validation and tesing sets"
      ]
    },
    {
      "cell_type": "code",
      "metadata": {
        "id": "BeABZgPsmoBF"
      },
      "source": [
        "# split entire data into training and testing sets\n",
        "TEST_SIZE = 0.15\n",
        "X_train, X_test, Y_train, Y_test = train_test_split(X, Y, test_size=TEST_SIZE, random_state=4)"
      ],
      "execution_count": 28,
      "outputs": []
    },
    {
      "cell_type": "code",
      "metadata": {
        "id": "QYkRIGSEmoBF"
      },
      "source": [
        "# split training data into training and validation sets\n",
        "VALID_SIZE = 0.15\n",
        "X_train, X_validation, Y_train, Y_validation = train_test_split(X_train, Y_train, test_size=VALID_SIZE, random_state=4)"
      ],
      "execution_count": 29,
      "outputs": []
    },
    {
      "cell_type": "code",
      "metadata": {
        "colab": {
          "base_uri": "https://localhost:8080/"
        },
        "id": "KmqACtWDmoBG",
        "outputId": "5a7da369-53a8-4c19-8f92-a995e80d9480"
      },
      "source": [
        "# print number of samples in each set\n",
        "print(\"TRAINING DATA\")\n",
        "print('Shape of input sequences: {}'.format(X_train.shape))\n",
        "print('Shape of output sequences: {}'.format(Y_train.shape))\n",
        "print(\"-\"*50)\n",
        "print(\"VALIDATION DATA\")\n",
        "print('Shape of input sequences: {}'.format(X_validation.shape))\n",
        "print('Shape of output sequences: {}'.format(Y_validation.shape))\n",
        "print(\"-\"*50)\n",
        "print(\"TESTING DATA\")\n",
        "print('Shape of input sequences: {}'.format(X_test.shape))\n",
        "print('Shape of output sequences: {}'.format(Y_test.shape))"
      ],
      "execution_count": 30,
      "outputs": [
        {
          "output_type": "stream",
          "text": [
            "TRAINING DATA\n",
            "Shape of input sequences: (52165, 100)\n",
            "Shape of output sequences: (52165, 100, 13)\n",
            "--------------------------------------------------\n",
            "VALIDATION DATA\n",
            "Shape of input sequences: (9206, 100)\n",
            "Shape of output sequences: (9206, 100, 13)\n",
            "--------------------------------------------------\n",
            "TESTING DATA\n",
            "Shape of input sequences: (10831, 100)\n",
            "Shape of output sequences: (10831, 100, 13)\n"
          ],
          "name": "stdout"
        }
      ]
    },
    {
      "cell_type": "markdown",
      "metadata": {
        "id": "hnCl3oKEmoBG"
      },
      "source": [
        "Before using RNN, we must make sure the dimensions of the data are what an RNN expects. In general, an RNN expects the following shape\n",
        "\n",
        "Shape of X:\n",
        "(#samples, #timesteps, #features)\n",
        "\n",
        "Shape of Y:\n",
        "(#samples, #timesteps, #features)\n",
        "\n",
        "![RNN tensor shape](./jupyter resources/rnn_tensor.png)\n",
        "\n",
        "Now, there can be various variations in the shape that you use to feed an RNN depending on the type of architecture. Since the problem we're working on has a many-to-many architecture, the input and the output both include number of timesteps which is nothing but the sequence length. But notice that the tensor X doesn't have the third dimension, that is, number of features. That's because we're going to use word embeddings before feeding in the data to an RNN, and hence there is no need to explicitly mention the third dimension. That's because when you use the Embedding() layer in Keras, you the training data will automatically be converted to (#samples, #timesteps, #features) where #features will be the embedding dimention (and note that the Embedding layer is always the very first layer of an RNN). While using the embedding layer we only need to reshape the data to (#samples, #timesteps) which is what we have done. However, note that you'll need to shape it to (#samples, #timesteps, #features) in case you don't use the Embedding() layer in Keras."
      ]
    },
    {
      "cell_type": "markdown",
      "metadata": {
        "id": "PowTtZNHmoBH"
      },
      "source": [
        "# 2. Vanilla RNN"
      ]
    },
    {
      "cell_type": "markdown",
      "metadata": {
        "id": "pmo4qbzWmoBJ"
      },
      "source": [
        "### Uninitialised fixed embeddings\n",
        "First let's try running a vanilla RNN. For this RNN we won't use the pre-trained word embeddings. We'll use randomly inititalised embeddings. Moreover, we won't update the embeddings weights."
      ]
    },
    {
      "cell_type": "code",
      "metadata": {
        "id": "lLRqniRRmoBJ"
      },
      "source": [
        "# total number of tags\n",
        "NUM_CLASSES = Y.shape[2]"
      ],
      "execution_count": 32,
      "outputs": []
    },
    {
      "cell_type": "code",
      "metadata": {
        "id": "Foqg8IwCmoBK"
      },
      "source": [
        "# create architecture\n",
        "\n",
        "rnn_model = Sequential()\n",
        "\n",
        "# create embedding layer - usually the first layer in text problems\n",
        "rnn_model.add(Embedding(input_dim     =  VOCABULARY_SIZE,         # vocabulary size - number of unique words in data\n",
        "                        output_dim    =  EMBEDDING_SIZE,          # length of vector with which each word is represented\n",
        "                        input_length  =  MAX_SEQ_LENGTH,          # length of input sequence\n",
        "                        trainable     =  False                    # False - don't update the embeddings\n",
        "))\n",
        "\n",
        "# add an RNN layer which contains 64 RNN cells\n",
        "rnn_model.add(SimpleRNN(64, \n",
        "              return_sequences=True  # True - return whole sequence; False - return single output of the end of the sequence\n",
        "))\n",
        "\n",
        "# add time distributed (output at each sequence) layer\n",
        "rnn_model.add(TimeDistributed(Dense(NUM_CLASSES, activation='softmax')))"
      ],
      "execution_count": 33,
      "outputs": []
    },
    {
      "cell_type": "markdown",
      "metadata": {
        "id": "Rrykzm_tmoBK"
      },
      "source": [
        "## Compile model"
      ]
    },
    {
      "cell_type": "code",
      "metadata": {
        "id": "99g80xugmoBK"
      },
      "source": [
        "rnn_model.compile(loss      =  'categorical_crossentropy',\n",
        "                  optimizer =  'adam',\n",
        "                  metrics   =  ['acc'])"
      ],
      "execution_count": 34,
      "outputs": []
    },
    {
      "cell_type": "code",
      "metadata": {
        "colab": {
          "base_uri": "https://localhost:8080/"
        },
        "id": "zmXmFEDcmoBL",
        "outputId": "802aa0cf-beb9-4400-81ec-794b82eacdea"
      },
      "source": [
        "# check summary of the model\n",
        "rnn_model.summary()"
      ],
      "execution_count": 35,
      "outputs": [
        {
          "output_type": "stream",
          "text": [
            "Model: \"sequential_1\"\n",
            "_________________________________________________________________\n",
            "Layer (type)                 Output Shape              Param #   \n",
            "=================================================================\n",
            "embedding_1 (Embedding)      (None, 100, 300)          17834700  \n",
            "_________________________________________________________________\n",
            "simple_rnn_1 (SimpleRNN)     (None, 100, 64)           23360     \n",
            "_________________________________________________________________\n",
            "time_distributed (TimeDistri (None, 100, 13)           845       \n",
            "=================================================================\n",
            "Total params: 17,858,905\n",
            "Trainable params: 24,205\n",
            "Non-trainable params: 17,834,700\n",
            "_________________________________________________________________\n"
          ],
          "name": "stdout"
        }
      ]
    },
    {
      "cell_type": "markdown",
      "metadata": {
        "id": "2800eM9fmoBL"
      },
      "source": [
        "## Fit model"
      ]
    },
    {
      "cell_type": "code",
      "metadata": {
        "colab": {
          "base_uri": "https://localhost:8080/"
        },
        "id": "D4nZH7N8moBL",
        "outputId": "ceee1249-5ea3-4e58-f890-5869f74c4510"
      },
      "source": [
        "rnn_training = rnn_model.fit(X_train, Y_train, batch_size=128, epochs=10, validation_data=(X_validation, Y_validation))"
      ],
      "execution_count": 36,
      "outputs": [
        {
          "output_type": "stream",
          "text": [
            "Epoch 1/10\n",
            "408/408 [==============================] - 41s 98ms/step - loss: 0.7363 - acc: 0.8059 - val_loss: 0.3490 - val_acc: 0.8943\n",
            "Epoch 2/10\n",
            "408/408 [==============================] - 39s 96ms/step - loss: 0.3163 - acc: 0.9027 - val_loss: 0.2397 - val_acc: 0.9276\n",
            "Epoch 3/10\n",
            "408/408 [==============================] - 40s 98ms/step - loss: 0.2276 - acc: 0.9302 - val_loss: 0.1940 - val_acc: 0.9386\n",
            "Epoch 4/10\n",
            "408/408 [==============================] - 39s 96ms/step - loss: 0.1880 - acc: 0.9399 - val_loss: 0.1694 - val_acc: 0.9445\n",
            "Epoch 5/10\n",
            "408/408 [==============================] - 40s 97ms/step - loss: 0.1668 - acc: 0.9455 - val_loss: 0.1535 - val_acc: 0.9492\n",
            "Epoch 6/10\n",
            "408/408 [==============================] - 40s 98ms/step - loss: 0.1516 - acc: 0.9502 - val_loss: 0.1427 - val_acc: 0.9528\n",
            "Epoch 7/10\n",
            "408/408 [==============================] - 40s 99ms/step - loss: 0.1415 - acc: 0.9532 - val_loss: 0.1357 - val_acc: 0.9549\n",
            "Epoch 8/10\n",
            "408/408 [==============================] - 41s 100ms/step - loss: 0.1356 - acc: 0.9547 - val_loss: 0.1305 - val_acc: 0.9563\n",
            "Epoch 9/10\n",
            "408/408 [==============================] - 40s 98ms/step - loss: 0.1298 - acc: 0.9565 - val_loss: 0.1263 - val_acc: 0.9575\n",
            "Epoch 10/10\n",
            "408/408 [==============================] - 39s 96ms/step - loss: 0.1263 - acc: 0.9575 - val_loss: 0.1238 - val_acc: 0.9579\n"
          ],
          "name": "stdout"
        }
      ]
    },
    {
      "cell_type": "code",
      "metadata": {
        "scrolled": true,
        "colab": {
          "base_uri": "https://localhost:8080/",
          "height": 295
        },
        "id": "zIV9hPqfmoBL",
        "outputId": "10be164d-e02c-4e58-f469-d533d5d4ad7b"
      },
      "source": [
        "# visualise training history\n",
        "plt.plot(rnn_training.history['acc'])\n",
        "plt.plot(rnn_training.history['val_acc'])\n",
        "plt.title('model accuracy')\n",
        "plt.ylabel('accuracy')\n",
        "plt.xlabel('epoch')\n",
        "plt.legend(['train', 'test'], loc=\"lower right\")\n",
        "plt.show()"
      ],
      "execution_count": 39,
      "outputs": [
        {
          "output_type": "display_data",
          "data": {
            "image/png": "[encoded data removed]",
            "text/plain": [
              "<Figure size 432x288 with 1 Axes>"
            ]
          },
          "metadata": {
            "tags": [],
            "needs_background": "light"
          }
        }
      ]
    },
    {
      "cell_type": "markdown",
      "metadata": {
        "id": "CCwt6cR8moBL"
      },
      "source": [
        "### Uninitialised trainable embeddings"
      ]
    },
    {
      "cell_type": "code",
      "metadata": {
        "id": "0XH9JJ4rmoBM"
      },
      "source": [
        "# create architecture\n",
        "\n",
        "rnn_model = Sequential()\n",
        "\n",
        "# create embedding layer - usually the first layer in text problems\n",
        "rnn_model.add(Embedding(input_dim     =  VOCABULARY_SIZE,         # vocabulary size - number of unique words in data\n",
        "                        output_dim    =  EMBEDDING_SIZE,          # length of vector with which each word is represented\n",
        "                        input_length  =  MAX_SEQ_LENGTH,          # length of input sequence\n",
        "                        trainable     =  True                     # True - update the embeddings while training\n",
        "))\n",
        "\n",
        "# add an RNN layer which contains 64 RNN cells\n",
        "rnn_model.add(SimpleRNN(64, \n",
        "              return_sequences=True  # True - return whole sequence; False - return single output of the end of the sequence\n",
        "))\n",
        "\n",
        "# add time distributed (output at each sequence) layer\n",
        "rnn_model.add(TimeDistributed(Dense(NUM_CLASSES, activation='softmax')))"
      ],
      "execution_count": 37,
      "outputs": []
    },
    {
      "cell_type": "markdown",
      "metadata": {
        "id": "5Q8jMDaKmoBM"
      },
      "source": [
        "## Compile model"
      ]
    },
    {
      "cell_type": "code",
      "metadata": {
        "id": "fzFPSv6lmoBM"
      },
      "source": [
        "rnn_model.compile(loss      =  'categorical_crossentropy',\n",
        "                  optimizer =  'adam',\n",
        "                  metrics   =  ['acc'])"
      ],
      "execution_count": 38,
      "outputs": []
    },
    {
      "cell_type": "code",
      "metadata": {
        "scrolled": true,
        "colab": {
          "base_uri": "https://localhost:8080/"
        },
        "id": "tRPyPcU1moBM",
        "outputId": "d79b0f60-a6db-412b-afd0-fe0cc3ac0f90"
      },
      "source": [
        "# check summary of the model\n",
        "rnn_model.summary()"
      ],
      "execution_count": 39,
      "outputs": [
        {
          "output_type": "stream",
          "text": [
            "Model: \"sequential_2\"\n",
            "_________________________________________________________________\n",
            "Layer (type)                 Output Shape              Param #   \n",
            "=================================================================\n",
            "embedding_2 (Embedding)      (None, 100, 300)          17834700  \n",
            "_________________________________________________________________\n",
            "simple_rnn_2 (SimpleRNN)     (None, 100, 64)           23360     \n",
            "_________________________________________________________________\n",
            "time_distributed_1 (TimeDist (None, 100, 13)           845       \n",
            "=================================================================\n",
            "Total params: 17,858,905\n",
            "Trainable params: 17,858,905\n",
            "Non-trainable params: 0\n",
            "_________________________________________________________________\n"
          ],
          "name": "stdout"
        }
      ]
    },
    {
      "cell_type": "markdown",
      "metadata": {
        "id": "pnp4C_jdmoBM"
      },
      "source": [
        "## Fit model"
      ]
    },
    {
      "cell_type": "code",
      "metadata": {
        "colab": {
          "base_uri": "https://localhost:8080/"
        },
        "id": "eYTFO-rgmoBN",
        "outputId": "8d5863a8-3117-48bd-b659-a8816619d14a"
      },
      "source": [
        "rnn_training = rnn_model.fit(X_train, Y_train, batch_size=128, epochs=10, validation_data=(X_validation, Y_validation))"
      ],
      "execution_count": null,
      "outputs": [
        {
          "output_type": "stream",
          "text": [
            "Epoch 1/10\n",
            "408/408 [==============================] - 145s 354ms/step - loss: 0.5019 - acc: 0.8896 - val_loss: 0.0428 - val_acc: 0.9873\n",
            "Epoch 2/10\n",
            "408/408 [==============================] - 144s 353ms/step - loss: 0.0333 - acc: 0.9898 - val_loss: 0.0298 - val_acc: 0.9898\n",
            "Epoch 3/10\n",
            "408/408 [==============================] - 143s 351ms/step - loss: 0.0214 - acc: 0.9926 - val_loss: 0.0274 - val_acc: 0.9903\n",
            "Epoch 4/10\n",
            "408/408 [==============================] - 139s 339ms/step - loss: 0.0175 - acc: 0.9938 - val_loss: 0.0269 - val_acc: 0.9905\n",
            "Epoch 5/10\n",
            "397/408 [============================>.] - ETA: 3s - loss: 0.0148 - acc: 0.9948"
          ],
          "name": "stdout"
        }
      ]
    },
    {
      "cell_type": "code",
      "metadata": {
        "scrolled": true,
        "colab": {
          "base_uri": "https://localhost:8080/",
          "height": 295
        },
        "id": "sgDUOEr-moBN",
        "outputId": "7efd0957-0e0c-4f45-dc72-48b0b2f4a8c9"
      },
      "source": [
        "# visualise training history\n",
        "plt.plot(rnn_training.history['acc'])\n",
        "plt.plot(rnn_training.history['val_acc'])\n",
        "plt.title('model accuracy')\n",
        "plt.ylabel('accuracy')\n",
        "plt.xlabel('epoch')\n",
        "plt.legend(['train', 'test'], loc=\"lower right\")\n",
        "plt.show()"
      ],
      "execution_count": 44,
      "outputs": [
        {
          "output_type": "display_data",
          "data": {
            "image/png": "[encoded data removed]",
            "text/plain": [
              "<Figure size 432x288 with 1 Axes>"
            ]
          },
          "metadata": {
            "tags": [],
            "needs_background": "light"
          }
        }
      ]
    },
    {
      "cell_type": "markdown",
      "metadata": {
        "id": "MOEHh7-6moBN"
      },
      "source": [
        "### Using pre-trained embedding weights"
      ]
    },
    {
      "cell_type": "code",
      "metadata": {
        "id": "MI20lSqTmoBO"
      },
      "source": [
        "# create architecture\n",
        "\n",
        "rnn_model = Sequential()\n",
        "\n",
        "# create embedding layer - usually the first layer in text problems\n",
        "rnn_model.add(Embedding(input_dim     =  VOCABULARY_SIZE,         # vocabulary size - number of unique words in data\n",
        "                        output_dim    =  EMBEDDING_SIZE,          # length of vector with which each word is represented\n",
        "                        input_length  =  MAX_SEQ_LENGTH,          # length of input sequence\n",
        "                        weights       = [embedding_weights],      # word embedding matrix\n",
        "                        trainable     =  True                     # True - update the embeddings while training\n",
        "))\n",
        "\n",
        "# add an RNN layer which contains 64 RNN cells\n",
        "rnn_model.add(SimpleRNN(64, \n",
        "              return_sequences=True  # True - return whole sequence; False - return single output of the end of the sequence\n",
        "))\n",
        "\n",
        "# add time distributed (output at each sequence) layer\n",
        "rnn_model.add(TimeDistributed(Dense(NUM_CLASSES, activation='softmax')))"
      ],
      "execution_count": null,
      "outputs": []
    },
    {
      "cell_type": "markdown",
      "metadata": {
        "id": "OEODpSEGmoBO"
      },
      "source": [
        "## Compile model"
      ]
    },
    {
      "cell_type": "code",
      "metadata": {
        "id": "P1zM6fX5moBP"
      },
      "source": [
        "rnn_model.compile(loss      =  'categorical_crossentropy',\n",
        "                  optimizer =  'adam',\n",
        "                  metrics   =  ['acc'])"
      ],
      "execution_count": 46,
      "outputs": []
    },
    {
      "cell_type": "code",
      "metadata": {
        "scrolled": true,
        "colab": {
          "base_uri": "https://localhost:8080/"
        },
        "id": "N893HhbAmoBP",
        "outputId": "cd0eeedc-867f-4952-ef82-64fe21b187f4"
      },
      "source": [
        "# check summary of the model\n",
        "rnn_model.summary()"
      ],
      "execution_count": 47,
      "outputs": [
        {
          "output_type": "stream",
          "text": [
            "Model: \"sequential_2\"\n",
            "_________________________________________________________________\n",
            "Layer (type)                 Output Shape              Param #   \n",
            "=================================================================\n",
            "embedding_2 (Embedding)      (None, 100, 300)          17834700  \n",
            "_________________________________________________________________\n",
            "simple_rnn_2 (SimpleRNN)     (None, 100, 64)           23360     \n",
            "_________________________________________________________________\n",
            "time_distributed_2 (TimeDist (None, 100, 13)           845       \n",
            "=================================================================\n",
            "Total params: 17,858,905\n",
            "Trainable params: 17,858,905\n",
            "Non-trainable params: 0\n",
            "_________________________________________________________________\n"
          ],
          "name": "stdout"
        }
      ]
    },
    {
      "cell_type": "markdown",
      "metadata": {
        "id": "3ja9ZCB9moBP"
      },
      "source": [
        "## Fit model"
      ]
    },
    {
      "cell_type": "code",
      "metadata": {
        "colab": {
          "base_uri": "https://localhost:8080/"
        },
        "id": "uCB1nWxkmoBQ",
        "outputId": "e6631a0a-6bb5-4d8e-a821-909059307816"
      },
      "source": [
        "rnn_training = rnn_model.fit(X_train, Y_train, batch_size=128, epochs=10, validation_data=(X_validation, Y_validation))"
      ],
      "execution_count": 48,
      "outputs": [
        {
          "output_type": "stream",
          "text": [
            "Epoch 1/10\n",
            "408/408 [==============================] - 81s 196ms/step - loss: 0.5059 - acc: 0.9020 - val_loss: 0.0346 - val_acc: 0.9891\n",
            "Epoch 2/10\n",
            "408/408 [==============================] - 80s 197ms/step - loss: 0.0284 - acc: 0.9907 - val_loss: 0.0270 - val_acc: 0.9906\n",
            "Epoch 3/10\n",
            "408/408 [==============================] - 78s 190ms/step - loss: 0.0203 - acc: 0.9930 - val_loss: 0.0252 - val_acc: 0.9911\n",
            "Epoch 4/10\n",
            "408/408 [==============================] - 77s 190ms/step - loss: 0.0171 - acc: 0.9939 - val_loss: 0.0249 - val_acc: 0.9912\n",
            "Epoch 5/10\n",
            "408/408 [==============================] - 78s 190ms/step - loss: 0.0148 - acc: 0.9947 - val_loss: 0.0250 - val_acc: 0.9913\n",
            "Epoch 6/10\n",
            "408/408 [==============================] - 77s 190ms/step - loss: 0.0133 - acc: 0.9953 - val_loss: 0.0255 - val_acc: 0.9912\n",
            "Epoch 7/10\n",
            "408/408 [==============================] - 78s 192ms/step - loss: 0.0116 - acc: 0.9960 - val_loss: 0.0263 - val_acc: 0.9911\n",
            "Epoch 8/10\n",
            "408/408 [==============================] - 77s 188ms/step - loss: 0.0101 - acc: 0.9966 - val_loss: 0.0273 - val_acc: 0.9909\n",
            "Epoch 9/10\n",
            "408/408 [==============================] - 77s 189ms/step - loss: 0.0088 - acc: 0.9970 - val_loss: 0.0289 - val_acc: 0.9907\n",
            "Epoch 10/10\n",
            "408/408 [==============================] - 76s 187ms/step - loss: 0.0077 - acc: 0.9975 - val_loss: 0.0308 - val_acc: 0.9905\n"
          ],
          "name": "stdout"
        }
      ]
    },
    {
      "cell_type": "code",
      "metadata": {
        "scrolled": true,
        "colab": {
          "base_uri": "https://localhost:8080/",
          "height": 295
        },
        "id": "1IMs2elUmoBQ",
        "outputId": "644088b3-1010-47cf-a83f-afff1ed0717f"
      },
      "source": [
        "# visualise training history\n",
        "plt.plot(rnn_training.history['acc'])\n",
        "plt.plot(rnn_training.history['val_acc'])\n",
        "plt.title('model accuracy')\n",
        "plt.ylabel('accuracy')\n",
        "plt.xlabel('epoch')\n",
        "plt.legend(['train', 'test'], loc=\"lower right\")\n",
        "plt.show()"
      ],
      "execution_count": 49,
      "outputs": [
        {
          "output_type": "display_data",
          "data": {
            "image/png": "[encoded data removed]",
            "text/plain": [
              "<Figure size 432x288 with 1 Axes>"
            ]
          },
          "metadata": {
            "tags": [],
            "needs_background": "light"
          }
        }
      ]
    },
    {
      "cell_type": "markdown",
      "metadata": {
        "id": "RGH29SnmmoBQ"
      },
      "source": [
        "# 2. LSTM"
      ]
    },
    {
      "cell_type": "markdown",
      "metadata": {
        "id": "MKeqxUFhmoBQ"
      },
      "source": [
        "We'll use pre-trained word embeddings in following models and allow them to be updated as well. "
      ]
    },
    {
      "cell_type": "markdown",
      "metadata": {
        "id": "vvbQuqMEmoBQ"
      },
      "source": [
        "## Create model architecture"
      ]
    },
    {
      "cell_type": "code",
      "metadata": {
        "id": "js6EaQ0QmoBR"
      },
      "source": [
        "# create architecture\n",
        "\n",
        "lstm_model = Sequential()\n",
        "lstm_model.add(Embedding(input_dim     = VOCABULARY_SIZE,         # vocabulary size - number of unique words in data\n",
        "                         output_dim    = EMBEDDING_SIZE,          # length of vector with which each word is represented\n",
        "                         input_length  = MAX_SEQ_LENGTH,          # length of input sequence\n",
        "                         weights       = [embedding_weights],     # word embedding matrix\n",
        "                         trainable     = True                     # True - update embeddings_weight matrix\n",
        "))\n",
        "lstm_model.add(LSTM(64, return_sequences=True))\n",
        "lstm_model.add(TimeDistributed(Dense(NUM_CLASSES, activation='softmax')))"
      ],
      "execution_count": 50,
      "outputs": []
    },
    {
      "cell_type": "markdown",
      "metadata": {
        "id": "6TvRsANZmoBR"
      },
      "source": [
        "## Compile model"
      ]
    },
    {
      "cell_type": "code",
      "metadata": {
        "id": "OM_8ipTkmoBR"
      },
      "source": [
        "lstm_model.compile(loss      =  'categorical_crossentropy',\n",
        "                   optimizer =  'adam',\n",
        "                   metrics   =  ['acc'])"
      ],
      "execution_count": 51,
      "outputs": []
    },
    {
      "cell_type": "code",
      "metadata": {
        "colab": {
          "base_uri": "https://localhost:8080/"
        },
        "id": "i6SX8CWKmoBR",
        "outputId": "c914dac1-dc5f-4c42-d7e7-f11029ec7987"
      },
      "source": [
        "# check summary of the model\n",
        "lstm_model.summary()"
      ],
      "execution_count": 52,
      "outputs": [
        {
          "output_type": "stream",
          "text": [
            "Model: \"sequential_3\"\n",
            "_________________________________________________________________\n",
            "Layer (type)                 Output Shape              Param #   \n",
            "=================================================================\n",
            "embedding_3 (Embedding)      (None, 100, 300)          17834700  \n",
            "_________________________________________________________________\n",
            "lstm (LSTM)                  (None, 100, 64)           93440     \n",
            "_________________________________________________________________\n",
            "time_distributed_3 (TimeDist (None, 100, 13)           845       \n",
            "=================================================================\n",
            "Total params: 17,928,985\n",
            "Trainable params: 17,928,985\n",
            "Non-trainable params: 0\n",
            "_________________________________________________________________\n"
          ],
          "name": "stdout"
        }
      ]
    },
    {
      "cell_type": "markdown",
      "metadata": {
        "id": "MzShywLnmoBS"
      },
      "source": [
        "## Fit model"
      ]
    },
    {
      "cell_type": "code",
      "metadata": {
        "colab": {
          "base_uri": "https://localhost:8080/"
        },
        "id": "B0TbhNT2moBS",
        "outputId": "2b9f3f08-af3c-49e7-9dc9-0b6af49d59d5"
      },
      "source": [
        "lstm_training = lstm_model.fit(X_train, Y_train, batch_size=128, epochs=10, validation_data=(X_validation, Y_validation))"
      ],
      "execution_count": 53,
      "outputs": [
        {
          "output_type": "stream",
          "text": [
            "Epoch 1/10\n",
            "408/408 [==============================] - 152s 368ms/step - loss: 0.6752 - acc: 0.8790 - val_loss: 0.0482 - val_acc: 0.9874\n",
            "Epoch 2/10\n",
            "408/408 [==============================] - 149s 365ms/step - loss: 0.0384 - acc: 0.9890 - val_loss: 0.0296 - val_acc: 0.9899\n",
            "Epoch 3/10\n",
            "408/408 [==============================] - 151s 369ms/step - loss: 0.0244 - acc: 0.9916 - val_loss: 0.0261 - val_acc: 0.9906\n",
            "Epoch 4/10\n",
            "408/408 [==============================] - 149s 366ms/step - loss: 0.0201 - acc: 0.9927 - val_loss: 0.0248 - val_acc: 0.9909\n",
            "Epoch 5/10\n",
            "408/408 [==============================] - 149s 366ms/step - loss: 0.0177 - acc: 0.9935 - val_loss: 0.0241 - val_acc: 0.9913\n",
            "Epoch 6/10\n",
            "408/408 [==============================] - 149s 366ms/step - loss: 0.0161 - acc: 0.9941 - val_loss: 0.0240 - val_acc: 0.9914\n",
            "Epoch 7/10\n",
            "408/408 [==============================] - 150s 367ms/step - loss: 0.0146 - acc: 0.9946 - val_loss: 0.0240 - val_acc: 0.9915\n",
            "Epoch 8/10\n",
            "408/408 [==============================] - 149s 366ms/step - loss: 0.0134 - acc: 0.9952 - val_loss: 0.0242 - val_acc: 0.9916\n",
            "Epoch 9/10\n",
            "408/408 [==============================] - 149s 366ms/step - loss: 0.0123 - acc: 0.9956 - val_loss: 0.0244 - val_acc: 0.9917\n",
            "Epoch 10/10\n",
            "408/408 [==============================] - 150s 367ms/step - loss: 0.0109 - acc: 0.9962 - val_loss: 0.0251 - val_acc: 0.9915\n"
          ],
          "name": "stdout"
        }
      ]
    },
    {
      "cell_type": "code",
      "metadata": {
        "colab": {
          "base_uri": "https://localhost:8080/",
          "height": 295
        },
        "id": "E99oxIMxmoBS",
        "outputId": "8c9d8e70-21a4-4b01-e3da-9969380e1893"
      },
      "source": [
        "# visualise training history\n",
        "plt.plot(lstm_training.history['acc'])\n",
        "plt.plot(lstm_training.history['val_acc'])\n",
        "plt.title('model accuracy')\n",
        "plt.ylabel('accuracy')\n",
        "plt.xlabel('epoch')\n",
        "plt.legend(['train', 'test'], loc=\"lower right\")\n",
        "plt.show()"
      ],
      "execution_count": 54,
      "outputs": [
        {
          "output_type": "display_data",
          "data": {
            "image/png": "[encoded data removed]",
            "text/plain": [
              "<Figure size 432x288 with 1 Axes>"
            ]
          },
          "metadata": {
            "tags": [],
            "needs_background": "light"
          }
        }
      ]
    },
    {
      "cell_type": "markdown",
      "metadata": {
        "collapsed": true,
        "id": "7Y7Aq8JYmoBS"
      },
      "source": [
        "# 2. GRU"
      ]
    },
    {
      "cell_type": "markdown",
      "metadata": {
        "id": "kS7N_WIlmoBS"
      },
      "source": [
        "## Create model architecture"
      ]
    },
    {
      "cell_type": "code",
      "metadata": {
        "id": "mrLkmrvEmoBT"
      },
      "source": [
        "# create architecture\n",
        "\n",
        "gru_model = Sequential()\n",
        "gru_model.add(Embedding(input_dim     = VOCABULARY_SIZE,\n",
        "                        output_dim    = EMBEDDING_SIZE,\n",
        "                        input_length  = MAX_SEQ_LENGTH,\n",
        "                        weights       = [embedding_weights],\n",
        "                        trainable     = True\n",
        "))\n",
        "gru_model.add(GRU(64, return_sequences=True))\n",
        "gru_model.add(TimeDistributed(Dense(NUM_CLASSES, activation='softmax')))"
      ],
      "execution_count": 55,
      "outputs": []
    },
    {
      "cell_type": "markdown",
      "metadata": {
        "id": "Db3P92eNmoBT"
      },
      "source": [
        "## Compile model"
      ]
    },
    {
      "cell_type": "code",
      "metadata": {
        "id": "70BhAZr9moBT"
      },
      "source": [
        "gru_model.compile(loss='categorical_crossentropy',\n",
        "              optimizer='adam',\n",
        "              metrics=['acc'])"
      ],
      "execution_count": 56,
      "outputs": []
    },
    {
      "cell_type": "code",
      "metadata": {
        "colab": {
          "base_uri": "https://localhost:8080/"
        },
        "id": "_Cx8LHPemoBT",
        "outputId": "d78f7ad9-fc91-448b-d0ad-0504ef6deab4"
      },
      "source": [
        "# check summary of model\n",
        "gru_model.summary()"
      ],
      "execution_count": 57,
      "outputs": [
        {
          "output_type": "stream",
          "text": [
            "Model: \"sequential_4\"\n",
            "_________________________________________________________________\n",
            "Layer (type)                 Output Shape              Param #   \n",
            "=================================================================\n",
            "embedding_4 (Embedding)      (None, 100, 300)          17834700  \n",
            "_________________________________________________________________\n",
            "gru (GRU)                    (None, 100, 64)           70272     \n",
            "_________________________________________________________________\n",
            "time_distributed_4 (TimeDist (None, 100, 13)           845       \n",
            "=================================================================\n",
            "Total params: 17,905,817\n",
            "Trainable params: 17,905,817\n",
            "Non-trainable params: 0\n",
            "_________________________________________________________________\n"
          ],
          "name": "stdout"
        }
      ]
    },
    {
      "cell_type": "markdown",
      "metadata": {
        "id": "b8o10CbVmoBT"
      },
      "source": [
        "## Fit model"
      ]
    },
    {
      "cell_type": "code",
      "metadata": {
        "colab": {
          "base_uri": "https://localhost:8080/"
        },
        "id": "8Qy2CPs0moBU",
        "outputId": "7941f860-3021-4c71-b1c5-a0063940bdf1"
      },
      "source": [
        "gru_training = gru_model.fit(X_train, Y_train, batch_size=128, epochs=10, validation_data=(X_validation, Y_validation))"
      ],
      "execution_count": 58,
      "outputs": [
        {
          "output_type": "stream",
          "text": [
            "Epoch 1/10\n",
            "408/408 [==============================] - 138s 333ms/step - loss: 0.5833 - acc: 0.9140 - val_loss: 0.0347 - val_acc: 0.9887\n",
            "Epoch 2/10\n",
            "408/408 [==============================] - 136s 333ms/step - loss: 0.0287 - acc: 0.9903 - val_loss: 0.0267 - val_acc: 0.9904\n",
            "Epoch 3/10\n",
            "408/408 [==============================] - 135s 331ms/step - loss: 0.0210 - acc: 0.9924 - val_loss: 0.0247 - val_acc: 0.9910\n",
            "Epoch 4/10\n",
            "408/408 [==============================] - 135s 332ms/step - loss: 0.0180 - acc: 0.9934 - val_loss: 0.0239 - val_acc: 0.9914\n",
            "Epoch 5/10\n",
            "408/408 [==============================] - 134s 329ms/step - loss: 0.0161 - acc: 0.9939 - val_loss: 0.0237 - val_acc: 0.9915\n",
            "Epoch 6/10\n",
            "408/408 [==============================] - 135s 331ms/step - loss: 0.0150 - acc: 0.9944 - val_loss: 0.0237 - val_acc: 0.9916\n",
            "Epoch 7/10\n",
            "408/408 [==============================] - 135s 330ms/step - loss: 0.0137 - acc: 0.9949 - val_loss: 0.0239 - val_acc: 0.9915\n",
            "Epoch 8/10\n",
            "408/408 [==============================] - 133s 327ms/step - loss: 0.0126 - acc: 0.9953 - val_loss: 0.0244 - val_acc: 0.9915\n",
            "Epoch 9/10\n",
            "408/408 [==============================] - 135s 330ms/step - loss: 0.0117 - acc: 0.9957 - val_loss: 0.0249 - val_acc: 0.9915\n",
            "Epoch 10/10\n",
            "408/408 [==============================] - 134s 329ms/step - loss: 0.0107 - acc: 0.9961 - val_loss: 0.0259 - val_acc: 0.9914\n"
          ],
          "name": "stdout"
        }
      ]
    },
    {
      "cell_type": "code",
      "metadata": {
        "colab": {
          "base_uri": "https://localhost:8080/",
          "height": 295
        },
        "id": "pZ16dv5QmoBU",
        "outputId": "99004876-3528-4ea7-c826-18ef5853e55a"
      },
      "source": [
        "# visualise training history\n",
        "plt.plot(gru_training.history['acc'])\n",
        "plt.plot(gru_training.history['val_acc'])\n",
        "plt.title('model accuracy')\n",
        "plt.ylabel('accuracy')\n",
        "plt.xlabel('epoch')\n",
        "plt.legend(['train', 'test'], loc=\"lower right\")\n",
        "plt.show()"
      ],
      "execution_count": 59,
      "outputs": [
        {
          "output_type": "display_data",
          "data": {
            "image/png": "[encoded data removed]",
            "text/plain": [
              "<Figure size 432x288 with 1 Axes>"
            ]
          },
          "metadata": {
            "tags": [],
            "needs_background": "light"
          }
        }
      ]
    },
    {
      "cell_type": "markdown",
      "metadata": {
        "id": "seSxp4zJmoBU"
      },
      "source": [
        "# 3. Bidirectional LSTM"
      ]
    },
    {
      "cell_type": "markdown",
      "metadata": {
        "id": "f7p6vnEPmoBU"
      },
      "source": [
        "## Create model architecture"
      ]
    },
    {
      "cell_type": "code",
      "metadata": {
        "id": "_bNfTBR8moBV"
      },
      "source": [
        "# create architecture\n",
        "\n",
        "bidirect_model = Sequential()\n",
        "bidirect_model.add(Embedding(input_dim     = VOCABULARY_SIZE,\n",
        "                             output_dim    = EMBEDDING_SIZE,\n",
        "                             input_length  = MAX_SEQ_LENGTH,\n",
        "                             weights       = [embedding_weights],\n",
        "                             trainable     = True\n",
        "))\n",
        "bidirect_model.add(Bidirectional(LSTM(64, return_sequences=True)))\n",
        "bidirect_model.add(TimeDistributed(Dense(NUM_CLASSES, activation='softmax')))"
      ],
      "execution_count": 60,
      "outputs": []
    },
    {
      "cell_type": "markdown",
      "metadata": {
        "id": "KOqb9rDqmoBV"
      },
      "source": [
        "## Compile model"
      ]
    },
    {
      "cell_type": "code",
      "metadata": {
        "id": "UZQd4c6cmoBV"
      },
      "source": [
        "bidirect_model.compile(loss='categorical_crossentropy',\n",
        "              optimizer='adam',\n",
        "              metrics=['acc'])"
      ],
      "execution_count": 61,
      "outputs": []
    },
    {
      "cell_type": "code",
      "metadata": {
        "colab": {
          "base_uri": "https://localhost:8080/"
        },
        "id": "Wn6dydE5moBV",
        "outputId": "4f7722ab-934a-45bd-de61-0c5b25e03740"
      },
      "source": [
        "# check summary of model\n",
        "bidirect_model.summary()"
      ],
      "execution_count": 62,
      "outputs": [
        {
          "output_type": "stream",
          "text": [
            "Model: \"sequential_5\"\n",
            "_________________________________________________________________\n",
            "Layer (type)                 Output Shape              Param #   \n",
            "=================================================================\n",
            "embedding_5 (Embedding)      (None, 100, 300)          17834700  \n",
            "_________________________________________________________________\n",
            "bidirectional (Bidirectional (None, 100, 128)          186880    \n",
            "_________________________________________________________________\n",
            "time_distributed_5 (TimeDist (None, 100, 13)           1677      \n",
            "=================================================================\n",
            "Total params: 18,023,257\n",
            "Trainable params: 18,023,257\n",
            "Non-trainable params: 0\n",
            "_________________________________________________________________\n"
          ],
          "name": "stdout"
        }
      ]
    },
    {
      "cell_type": "markdown",
      "metadata": {
        "id": "rBGeJtEamoBV"
      },
      "source": [
        "## Fit model"
      ]
    },
    {
      "cell_type": "code",
      "metadata": {
        "colab": {
          "base_uri": "https://localhost:8080/"
        },
        "id": "hU9KSUCmmoBW",
        "outputId": "33f7e475-25ec-4a55-bcb9-7c73fbbd397c"
      },
      "source": [
        "bidirect_training = bidirect_model.fit(X_train, Y_train, batch_size=128, epochs=10, validation_data=(X_validation, Y_validation))"
      ],
      "execution_count": 63,
      "outputs": [
        {
          "output_type": "stream",
          "text": [
            "Epoch 1/10\n",
            "408/408 [==============================] - 264s 637ms/step - loss: 0.5709 - acc: 0.8872 - val_loss: 0.0305 - val_acc: 0.9903\n",
            "Epoch 2/10\n",
            "408/408 [==============================] - 257s 631ms/step - loss: 0.0246 - acc: 0.9920 - val_loss: 0.0211 - val_acc: 0.9929\n",
            "Epoch 3/10\n",
            "408/408 [==============================] - 257s 630ms/step - loss: 0.0160 - acc: 0.9947 - val_loss: 0.0189 - val_acc: 0.9936\n",
            "Epoch 4/10\n",
            "408/408 [==============================] - 259s 635ms/step - loss: 0.0123 - acc: 0.9959 - val_loss: 0.0182 - val_acc: 0.9937\n",
            "Epoch 5/10\n",
            "408/408 [==============================] - 265s 651ms/step - loss: 0.0101 - acc: 0.9967 - val_loss: 0.0178 - val_acc: 0.9940\n",
            "Epoch 6/10\n",
            "408/408 [==============================] - 258s 633ms/step - loss: 0.0081 - acc: 0.9974 - val_loss: 0.0180 - val_acc: 0.9941\n",
            "Epoch 7/10\n",
            "408/408 [==============================] - 257s 630ms/step - loss: 0.0065 - acc: 0.9979 - val_loss: 0.0184 - val_acc: 0.9941\n",
            "Epoch 8/10\n",
            "408/408 [==============================] - 257s 630ms/step - loss: 0.0051 - acc: 0.9985 - val_loss: 0.0195 - val_acc: 0.9939\n",
            "Epoch 9/10\n",
            "408/408 [==============================] - 256s 628ms/step - loss: 0.0039 - acc: 0.9989 - val_loss: 0.0204 - val_acc: 0.9940\n",
            "Epoch 10/10\n",
            "408/408 [==============================] - 254s 624ms/step - loss: 0.0029 - acc: 0.9992 - val_loss: 0.0215 - val_acc: 0.9939\n"
          ],
          "name": "stdout"
        }
      ]
    },
    {
      "cell_type": "code",
      "metadata": {
        "colab": {
          "base_uri": "https://localhost:8080/",
          "height": 295
        },
        "id": "tQGUrtwVmoBW",
        "outputId": "25cd7efc-d151-4682-c8d3-2dc509a7fc6f"
      },
      "source": [
        "# visualise training history\n",
        "plt.plot(bidirect_training.history['acc'])\n",
        "plt.plot(bidirect_training.history['val_acc'])\n",
        "plt.title('model accuracy')\n",
        "plt.ylabel('accuracy')\n",
        "plt.xlabel('epoch')\n",
        "plt.legend(['train', 'test'], loc=\"lower right\")\n",
        "plt.show()"
      ],
      "execution_count": 64,
      "outputs": [
        {
          "output_type": "display_data",
          "data": {
            "image/png": "[encoded data removed]",
            "text/plain": [
              "<Figure size 432x288 with 1 Axes>"
            ]
          },
          "metadata": {
            "tags": [],
            "needs_background": "light"
          }
        }
      ]
    },
    {
      "cell_type": "markdown",
      "metadata": {
        "id": "29YSwLEsmoBW"
      },
      "source": [
        "# 5. Model evaluation"
      ]
    },
    {
      "cell_type": "code",
      "metadata": {
        "colab": {
          "base_uri": "https://localhost:8080/"
        },
        "id": "sm--D8D7moBW",
        "outputId": "e17ede00-eb60-40bb-e458-2b67ed6a27f8"
      },
      "source": [
        "loss, accuracy = rnn_model.evaluate(X_test, Y_test, verbose = 1)\n",
        "print(\"Loss: {0},\\nAccuracy: {1}\".format(loss, accuracy))"
      ],
      "execution_count": 65,
      "outputs": [
        {
          "output_type": "stream",
          "text": [
            "339/339 [==============================] - 4s 12ms/step - loss: 0.0306 - acc: 0.9905\n",
            "Loss: 0.030582448467612267,\n",
            "Accuracy: 0.9905364513397217\n"
          ],
          "name": "stdout"
        }
      ]
    },
    {
      "cell_type": "code",
      "metadata": {
        "colab": {
          "base_uri": "https://localhost:8080/"
        },
        "id": "euMPIBaImoBW",
        "outputId": "f2f57e19-b9c0-44df-ff31-5a71407bef96"
      },
      "source": [
        "loss, accuracy = lstm_model.evaluate(X_test, Y_test, verbose = 1)\n",
        "print(\"Loss: {0},\\nAccuracy: {1}\".format(loss, accuracy))"
      ],
      "execution_count": 66,
      "outputs": [
        {
          "output_type": "stream",
          "text": [
            "339/339 [==============================] - 8s 24ms/step - loss: 0.0250 - acc: 0.9916\n",
            "Loss: 0.02502598986029625,\n",
            "Accuracy: 0.9915640354156494\n"
          ],
          "name": "stdout"
        }
      ]
    },
    {
      "cell_type": "code",
      "metadata": {
        "colab": {
          "base_uri": "https://localhost:8080/"
        },
        "id": "lRGAVBhTmoBX",
        "outputId": "136945a0-c737-45f0-b337-a59386c3b3aa"
      },
      "source": [
        "loss, accuracy = gru_model.evaluate(X_test, Y_test, verbose = 1)\n",
        "print(\"Loss: {0},\\nAccuracy: {1}\".format(loss, accuracy))"
      ],
      "execution_count": 67,
      "outputs": [
        {
          "output_type": "stream",
          "text": [
            "339/339 [==============================] - 7s 20ms/step - loss: 0.0258 - acc: 0.9915\n",
            "Loss: 0.02581190876662731,\n",
            "Accuracy: 0.9914772510528564\n"
          ],
          "name": "stdout"
        }
      ]
    },
    {
      "cell_type": "code",
      "metadata": {
        "colab": {
          "base_uri": "https://localhost:8080/"
        },
        "id": "AQcRz3e1moBX",
        "outputId": "78484be4-67cb-406e-f083-c7e8ef8d6fe8"
      },
      "source": [
        "loss, accuracy = bidirect_model.evaluate(X_test, Y_test, verbose = 1)\n",
        "print(\"Loss: {0},\\nAccuracy: {1}\".format(loss, accuracy))"
      ],
      "execution_count": 68,
      "outputs": [
        {
          "output_type": "stream",
          "text": [
            "339/339 [==============================] - 15s 44ms/step - loss: 0.0218 - acc: 0.9939\n",
            "Loss: 0.021769929677248,\n",
            "Accuracy: 0.993903636932373\n"
          ],
          "name": "stdout"
        }
      ]
    },
    {
      "cell_type": "code",
      "metadata": {
        "id": "imhzJXXTmoBX"
      },
      "source": [
        ""
      ],
      "execution_count": 68,
      "outputs": []
    }
  ]
}